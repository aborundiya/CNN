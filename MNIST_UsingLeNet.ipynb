{
  "nbformat": 4,
  "nbformat_minor": 0,
  "metadata": {
    "colab": {
      "name": "MNIST_UsingLeNet.ipynb",
      "provenance": [],
      "toc_visible": true,
      "authorship_tag": "ABX9TyOojHNv9yiqXI/sOne0+ODP",
      "include_colab_link": true
    },
    "kernelspec": {
      "name": "python3",
      "display_name": "Python 3"
    },
    "accelerator": "GPU"
  },
  "cells": [
    {
      "cell_type": "markdown",
      "metadata": {
        "id": "view-in-github",
        "colab_type": "text"
      },
      "source": [
        "<a href=\"https://colab.research.google.com/github/aborundiya/CNN/blob/master/MNIST_UsingLeNet.ipynb\" target=\"_parent\"><img src=\"https://colab.research.google.com/assets/colab-badge.svg\" alt=\"Open In Colab\"/></a>"
      ]
    },
    {
      "cell_type": "code",
      "metadata": {
        "id": "Gi6nsCRncJRT",
        "colab_type": "code",
        "colab": {}
      },
      "source": [
        "import torch\n",
        "import torchvision\n",
        "import torchvision.transforms as transform\n",
        "from torch import nn as nn\n",
        "import numpy as np\n",
        "import matplotlib.pyplot as plt"
      ],
      "execution_count": 0,
      "outputs": []
    },
    {
      "cell_type": "markdown",
      "metadata": {
        "id": "hs8axv77u2tq",
        "colab_type": "text"
      },
      "source": [
        "# Import Data set"
      ]
    },
    {
      "cell_type": "code",
      "metadata": {
        "id": "zdPp_sHFu4x6",
        "colab_type": "code",
        "colab": {}
      },
      "source": [
        "\n",
        "trainset = torchvision.datasets.MNIST('./data', train=True,download=True, transform=transform.ToTensor())"
      ],
      "execution_count": 0,
      "outputs": []
    },
    {
      "cell_type": "code",
      "metadata": {
        "id": "zkLJuuBWvcV3",
        "colab_type": "code",
        "colab": {}
      },
      "source": [
        "classes = (\"Zero\",\"One\",\"Two\",\"Three\",\"Four\",\"Five\",\"Six\",\"Seven\",\"Eight\",\"Nine\")\n",
        "trainloader = torch.utils.data.DataLoader(trainset,batch_size=4,shuffle=True)"
      ],
      "execution_count": 0,
      "outputs": []
    },
    {
      "cell_type": "code",
      "metadata": {
        "id": "yJ9LGcSVv1Dr",
        "colab_type": "code",
        "colab": {
          "base_uri": "https://localhost:8080/",
          "height": 34
        },
        "outputId": "1fcd07ce-1201-4c7a-fa15-a2e43046b7c5"
      },
      "source": [
        "dataiter = iter(trainloader)\n",
        "images, labels = dataiter.next()\n",
        "print(images.shape)"
      ],
      "execution_count": 36,
      "outputs": [
        {
          "output_type": "stream",
          "text": [
            "torch.Size([4, 1, 28, 28])\n"
          ],
          "name": "stdout"
        }
      ]
    },
    {
      "cell_type": "code",
      "metadata": {
        "id": "UL-8_JQIc3vq",
        "colab_type": "code",
        "colab": {}
      },
      "source": [
        "class LeNet(nn.Module):\n",
        "\n",
        "  def __init__(self):\n",
        "    super(LeNet,self).__init__()\n",
        "    self.cnnModel = nn.Sequential(\n",
        "        nn.Conv2d(1,6,5),     # (N , 1, 28, 28 ) - > ( N , 6, 24,24)\n",
        "        nn.ReLU(),\n",
        "        nn.AvgPool2d(2,stride=2),  # (N,6,24,24)  - > ( N, 6, 12,12)\n",
        "        nn.Conv2d(6,16,5) ,       # ( N, 6, 12, 12 ) - > (N, 16,8, 8)\n",
        "        nn.ReLU(),\n",
        "        nn.AvgPool2d(2,stride=2)  # (N,16, 8,8) -> (N,16, 4, 4)\n",
        "    )\n",
        "    self.fcModel = nn.Sequential(\n",
        "        nn.Linear(256,120),     # (N, 256)  -> ( N , 120)\n",
        "        nn.ReLU(),\n",
        "        nn.Linear(120,84),     # (N,120)  -> ( N ,84)\n",
        "        nn.ReLU(),\n",
        "        nn.Linear(84,10)      #(N,84 )  -> ( N ,10)\n",
        "    )\n",
        "\n",
        "  def forward(self,x):\n",
        "    #print(x.shape)\n",
        "    x = self.cnnModel(x)\n",
        "    #print(x.shape)\n",
        "    x = x.view(x.size(0),-1)  # flatten the Tensor with same size of N\n",
        "    #print(x.shape)\n",
        "    x = self.fcModel(x)\n",
        "    #print(x.shape)\n",
        "    return x\n"
      ],
      "execution_count": 0,
      "outputs": []
    },
    {
      "cell_type": "code",
      "metadata": {
        "id": "PRjyp38ktPqH",
        "colab_type": "code",
        "colab": {}
      },
      "source": [
        "net = LeNet()\n",
        "out = net(images)"
      ],
      "execution_count": 0,
      "outputs": []
    },
    {
      "cell_type": "code",
      "metadata": {
        "id": "suy48JXzwDoX",
        "colab_type": "code",
        "outputId": "9c7263d1-cc93-4d4e-aee0-2c7bb212033b",
        "colab": {
          "base_uri": "https://localhost:8080/",
          "height": 158
        }
      },
      "source": [
        "print(out)"
      ],
      "execution_count": 39,
      "outputs": [
        {
          "output_type": "stream",
          "text": [
            "tensor([[ 0.0106, -0.1387, -0.0499, -0.0651, -0.0376,  0.0420, -0.0088,  0.0700,\n",
            "          0.0260,  0.0187],\n",
            "        [ 0.0071, -0.1386, -0.0463, -0.0640, -0.0434,  0.0470, -0.0092,  0.0679,\n",
            "          0.0293,  0.0200],\n",
            "        [ 0.0091, -0.1387, -0.0440, -0.0627, -0.0476,  0.0429, -0.0092,  0.0683,\n",
            "          0.0358,  0.0195],\n",
            "        [ 0.0129, -0.1429, -0.0498, -0.0609, -0.0413,  0.0443, -0.0140,  0.0656,\n",
            "          0.0280,  0.0246]], grad_fn=<AddmmBackward>)\n"
          ],
          "name": "stdout"
        }
      ]
    },
    {
      "cell_type": "code",
      "metadata": {
        "id": "ZGxUmQy2wY7H",
        "colab_type": "code",
        "colab": {}
      },
      "source": [
        "max_value , pred_class = torch.max(out.data,1)"
      ],
      "execution_count": 0,
      "outputs": []
    },
    {
      "cell_type": "markdown",
      "metadata": {
        "id": "-op2QWRH5VX4",
        "colab_type": "text"
      },
      "source": [
        "# Training the LeNet with CIFAR10 dataset"
      ]
    },
    {
      "cell_type": "code",
      "metadata": {
        "id": "RlZhi9zwxw_W",
        "colab_type": "code",
        "colab": {}
      },
      "source": [
        "batch_size = 128 \n",
        "trainSet = torchvision.datasets.MNIST('./data',train=True,download=True,transform=transform.ToTensor())\n",
        "trainLoader = torch.utils.data.DataLoader(trainSet,batch_size=batch_size,shuffle=True)\n",
        "testSet = torchvision.datasets.MNIST('./data',train=False,download=True,transform=transform.ToTensor())\n",
        "testLoader = torch.utils.data.DataLoader(testSet,batch_size=batch_size,shuffle=False)\n",
        "\n"
      ],
      "execution_count": 0,
      "outputs": []
    },
    {
      "cell_type": "code",
      "metadata": {
        "id": "VvUpv-ykBeBR",
        "colab_type": "code",
        "colab": {
          "base_uri": "https://localhost:8080/",
          "height": 34
        },
        "outputId": "89131ffa-2e69-400c-bdaa-50a2d34bf4d2"
      },
      "source": [
        "device = torch.device(\"cuda:0\" if torch.cuda.is_available() else \"cpu\")\n",
        "print(device)"
      ],
      "execution_count": 42,
      "outputs": [
        {
          "output_type": "stream",
          "text": [
            "cuda:0\n"
          ],
          "name": "stdout"
        }
      ]
    },
    {
      "cell_type": "code",
      "metadata": {
        "id": "PQ2bdMeCdLzb",
        "colab_type": "code",
        "colab": {}
      },
      "source": [
        "def evaluate(dataLoader):\n",
        "  total , correct = 0 ,0 \n",
        "  for data in dataLoader:\n",
        "    inputs, labels = data \n",
        "    inputs, labels = inputs.to(device), labels.to(device)\n",
        "    outputs = net(inputs)\n",
        "    _,pred = torch.max(outputs.data,1)\n",
        "    total += labels.size(0)\n",
        "    correct +=(pred == labels).sum().item()\n",
        "  return 100 * (correct / total)"
      ],
      "execution_count": 0,
      "outputs": []
    },
    {
      "cell_type": "code",
      "metadata": {
        "id": "hO5SbaRadm3L",
        "colab_type": "code",
        "colab": {}
      },
      "source": [
        "net = LeNet().to(device)\n",
        "import torch.optim as optim \n",
        "loss_fn = nn.CrossEntropyLoss()\n",
        "opt = optim.Adam(net.parameters())\n"
      ],
      "execution_count": 0,
      "outputs": []
    },
    {
      "cell_type": "code",
      "metadata": {
        "id": "Dj-JC2OVeiNW",
        "colab_type": "code",
        "outputId": "3c71bde6-9ea2-4cda-c9bb-45ddef80a9d5",
        "colab": {
          "base_uri": "https://localhost:8080/",
          "height": 584
        }
      },
      "source": [
        "%%time\n",
        "loss_arr = []\n",
        "loss_arr_epoch = []\n",
        "max_epochs = 16 \n",
        "\n",
        "for epoch in range(max_epochs):\n",
        "  for i , data in enumerate(trainLoader,0):\n",
        "    inputs , labels = data \n",
        "    inputs, labels = inputs.to(device), labels.to(device)\n",
        "    opt.zero_grad()\n",
        "    outputs = net(inputs)\n",
        "    loss = loss_fn(outputs, labels)\n",
        "    loss.backward()\n",
        "    opt.step()\n",
        "    loss_arr.append(loss.item())\n",
        "  loss_arr_epoch.append(loss.item())\n",
        "  print(\"Epoch %d %d , Test acc : %0.2f, Train Acc : %0.2f\" % (epoch, max_epochs, evaluate(testLoader),evaluate(trainLoader)))\n",
        "plt.plot(loss_arr_epoch)\n",
        "plt.show()"
      ],
      "execution_count": 45,
      "outputs": [
        {
          "output_type": "stream",
          "text": [
            "Epoch 0 16 , Test acc : 94.68, Train Acc : 94.33\n",
            "Epoch 1 16 , Test acc : 96.41, Train Acc : 96.29\n",
            "Epoch 2 16 , Test acc : 97.69, Train Acc : 97.80\n",
            "Epoch 3 16 , Test acc : 98.03, Train Acc : 98.22\n",
            "Epoch 4 16 , Test acc : 98.12, Train Acc : 98.27\n",
            "Epoch 5 16 , Test acc : 98.36, Train Acc : 98.56\n",
            "Epoch 6 16 , Test acc : 98.57, Train Acc : 98.91\n",
            "Epoch 7 16 , Test acc : 98.74, Train Acc : 99.13\n",
            "Epoch 8 16 , Test acc : 98.75, Train Acc : 99.04\n",
            "Epoch 9 16 , Test acc : 98.61, Train Acc : 99.23\n",
            "Epoch 10 16 , Test acc : 98.50, Train Acc : 99.24\n",
            "Epoch 11 16 , Test acc : 98.87, Train Acc : 99.19\n",
            "Epoch 12 16 , Test acc : 98.87, Train Acc : 99.48\n",
            "Epoch 13 16 , Test acc : 98.90, Train Acc : 99.55\n",
            "Epoch 14 16 , Test acc : 98.76, Train Acc : 99.46\n",
            "Epoch 15 16 , Test acc : 98.89, Train Acc : 99.48\n"
          ],
          "name": "stdout"
        },
        {
          "output_type": "display_data",
          "data": {
            "image/png": "[encoded data removed]",
            "text/plain": [
              "<Figure size 432x288 with 1 Axes>"
            ]
          },
          "metadata": {
            "tags": [],
            "needs_background": "light"
          }
        },
        {
          "output_type": "stream",
          "text": [
            "CPU times: user 2min 28s, sys: 836 ms, total: 2min 29s\n",
            "Wall time: 2min 29s\n"
          ],
          "name": "stdout"
        }
      ]
    },
    {
      "cell_type": "markdown",
      "metadata": {
        "id": "HK1Vu1Hvi3DH",
        "colab_type": "text"
      },
      "source": [
        "#Basic Visulaization"
      ]
    },
    {
      "cell_type": "code",
      "metadata": {
        "id": "N1v_lansjQKm",
        "colab_type": "code",
        "colab": {}
      },
      "source": [
        "def imshow(img):\n",
        "    npimg = img.numpy()\n",
        "    plt.imshow(np.transpose(npimg, (1, 2, 0)))\n",
        "    plt.show()"
      ],
      "execution_count": 0,
      "outputs": []
    },
    {
      "cell_type": "code",
      "metadata": {
        "id": "MZziz3fqi4s7",
        "colab_type": "code",
        "outputId": "b1f87c97-18ba-44b1-abd2-89ef0ef5aee4",
        "colab": {
          "base_uri": "https://localhost:8080/",
          "height": 137
        }
      },
      "source": [
        "imshow(torchvision.utils.make_grid(images))"
      ],
      "execution_count": 47,
      "outputs": [
        {
          "output_type": "display_data",
          "data": {
            "image/png": "[encoded data removed]",
            "text/plain": [
              "<Figure size 432x288 with 1 Axes>"
            ]
          },
          "metadata": {
            "tags": [],
            "needs_background": "light"
          }
        }
      ]
    },
    {
      "cell_type": "code",
      "metadata": {
        "id": "rP8IKhKLi_qc",
        "colab_type": "code",
        "colab": {}
      },
      "source": [
        "net = net.to('cpu')"
      ],
      "execution_count": 0,
      "outputs": []
    },
    {
      "cell_type": "code",
      "metadata": {
        "id": "luieI9D2jqGV",
        "colab_type": "code",
        "outputId": "53749e97-6b33-40b6-bd6d-f97493bef5c1",
        "colab": {
          "base_uri": "https://localhost:8080/",
          "height": 34
        }
      },
      "source": [
        "out - net(images)\n",
        "print(out.shape)"
      ],
      "execution_count": 49,
      "outputs": [
        {
          "output_type": "stream",
          "text": [
            "torch.Size([4, 10])\n"
          ],
          "name": "stdout"
        }
      ]
    },
    {
      "cell_type": "code",
      "metadata": {
        "id": "7e5xsqlRjw8r",
        "colab_type": "code",
        "outputId": "d13ce757-77ec-4888-d2dd-0bcd52485ff5",
        "colab": {
          "base_uri": "https://localhost:8080/",
          "height": 34
        }
      },
      "source": [
        "out = net.cnnModel[0](images)\n",
        "print(out.shape)"
      ],
      "execution_count": 50,
      "outputs": [
        {
          "output_type": "stream",
          "text": [
            "torch.Size([4, 6, 24, 24])\n"
          ],
          "name": "stdout"
        }
      ]
    },
    {
      "cell_type": "code",
      "metadata": {
        "id": "rAkiYGhMkQQ7",
        "colab_type": "code",
        "outputId": "8ae2d5ef-f3e4-4cff-f5c4-e4a8af96fc7f",
        "colab": {
          "base_uri": "https://localhost:8080/",
          "height": 431
        }
      },
      "source": [
        "plt.figure(figsize=(6,6))\n",
        "plt.subplot(321)\n",
        "for i in range(6):\n",
        "  ax1 = plt.subplot(3,2,i+1)\n",
        "  plt.imshow(out[image_id, i , : ,:].detach().numpy(), cmap = 'binary')"
      ],
      "execution_count": 52,
      "outputs": [
        {
          "output_type": "stream",
          "text": [
            "/usr/local/lib/python3.6/dist-packages/ipykernel_launcher.py:4: MatplotlibDeprecationWarning: Adding an axes using the same arguments as a previous axes currently reuses the earlier instance.  In a future version, a new instance will always be created and returned.  Meanwhile, this warning can be suppressed, and the future behavior ensured, by passing a unique label to each axes instance.\n",
            "  after removing the cwd from sys.path.\n"
          ],
          "name": "stderr"
        },
        {
          "output_type": "display_data",
          "data": {
            "image/png": "[encoded data removed]",
            "text/plain": [
              "<Figure size 432x432 with 6 Axes>"
            ]
          },
          "metadata": {
            "tags": [],
            "needs_background": "light"
          }
        }
      ]
    },
    {
      "cell_type": "code",
      "metadata": {
        "id": "Eh3D1nUjk8-L",
        "colab_type": "code",
        "colab": {}
      },
      "source": [
        ""
      ],
      "execution_count": 0,
      "outputs": []
    }
  ]
}