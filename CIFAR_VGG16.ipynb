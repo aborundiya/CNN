{
  "nbformat": 4,
  "nbformat_minor": 0,
  "metadata": {
    "colab": {
      "name": "CIFAR_VGG16.ipynb",
      "provenance": [],
      "authorship_tag": "ABX9TyP3y6hWh2Ptn7MsD7Q8bjt+",
      "include_colab_link": true
    },
    "kernelspec": {
      "name": "python3",
      "display_name": "Python 3"
    },
    "accelerator": "GPU"
  },
  "cells": [
    {
      "cell_type": "markdown",
      "metadata": {
        "id": "view-in-github",
        "colab_type": "text"
      },
      "source": [
        "<a href=\"https://colab.research.google.com/github/aborundiya/CNN/blob/master/CIFAR_VGG16.ipynb\" target=\"_parent\"><img src=\"https://colab.research.google.com/assets/colab-badge.svg\" alt=\"Open In Colab\"/></a>"
      ]
    },
    {
      "cell_type": "code",
      "metadata": {
        "id": "tmhhvUrX8Xjr",
        "colab_type": "code",
        "colab": {}
      },
      "source": [
        "import numpy as np\n",
        "import matplotlib.pyplot as plt \n",
        "import torch \n",
        "import torchvision\n",
        "import torchvision.transforms as transforms\n",
        "import torch.nn as nn \n",
        "import torch.optim as optim \n",
        "from torchvision import  models "
      ],
      "execution_count": 0,
      "outputs": []
    },
    {
      "cell_type": "markdown",
      "metadata": {
        "id": "EWBs0ZD49CPX",
        "colab_type": "text"
      },
      "source": [
        "#checking if the GPU Is availbale"
      ]
    },
    {
      "cell_type": "code",
      "metadata": {
        "id": "E7V5qCir9KeK",
        "colab_type": "code",
        "outputId": "4a261fa9-589d-419d-b242-e904f0f1cc95",
        "colab": {
          "base_uri": "https://localhost:8080/",
          "height": 33
        }
      },
      "source": [
        "device = torch.device(\"cuda:0\" if torch.cuda.is_available() else \"cpu\")\n",
        "print(device)"
      ],
      "execution_count": 22,
      "outputs": [
        {
          "output_type": "stream",
          "text": [
            "cuda:0\n"
          ],
          "name": "stdout"
        }
      ]
    },
    {
      "cell_type": "markdown",
      "metadata": {
        "id": "jEgyx47885m5",
        "colab_type": "text"
      },
      "source": [
        "#Loading and Transforming the images "
      ]
    },
    {
      "cell_type": "code",
      "metadata": {
        "id": "emaBAuHa82D3",
        "colab_type": "code",
        "colab": {}
      },
      "source": [
        "transform_train = transforms.Compose([\n",
        "                                      transforms.RandomResizedCrop(224), \n",
        "                                      transforms.ToTensor(),\n",
        "                                      transforms.Normalize((0.5,0.5,0.5),(0.5,0.5,0.5))])\n",
        "transform_test = transforms.Compose([\n",
        "                                     transforms.RandomResizedCrop(224),\n",
        "                                     transforms.ToTensor(),\n",
        "                                     transforms.Normalize((0.5,0.5,0.5),(0.5,0.5,0.5))\n",
        "])"
      ],
      "execution_count": 0,
      "outputs": []
    },
    {
      "cell_type": "code",
      "metadata": {
        "id": "eAVSXfJi_DM4",
        "colab_type": "code",
        "outputId": "2dc0623e-0b77-4dc8-90d4-248ee95641cb",
        "colab": {
          "base_uri": "https://localhost:8080/",
          "height": 50
        }
      },
      "source": [
        "train_set = torchvision.datasets.CIFAR10('./data',train=True, download=True, transform=transform_train)\n",
        "test_set = torchvision.datasets.CIFAR10('./data',train=False, download=True,transform=transform_test)"
      ],
      "execution_count": 24,
      "outputs": [
        {
          "output_type": "stream",
          "text": [
            "Files already downloaded and verified\n",
            "Files already downloaded and verified\n"
          ],
          "name": "stdout"
        }
      ]
    },
    {
      "cell_type": "markdown",
      "metadata": {
        "id": "D40pKENkAByQ",
        "colab_type": "text"
      },
      "source": [
        "#Visualization of the dataset using dataloader and custom imshow "
      ]
    },
    {
      "cell_type": "code",
      "metadata": {
        "id": "kZ4C7gHGAEDI",
        "colab_type": "code",
        "outputId": "80e83b77-fc3d-4fd3-a504-215ac68b095b",
        "colab": {
          "base_uri": "https://localhost:8080/",
          "height": 66
        }
      },
      "source": [
        "num_classes = 10 \n",
        "batch_size = 4 \n",
        "train_dataloader = torch.utils.data.DataLoader(train_set, batch_size=batch_size, shuffle=True)\n",
        "images , labels = iter(train_dataloader).next()\n",
        "print(images.shape)\n",
        "print(images[1].shape)\n",
        "print(labels[1].item())"
      ],
      "execution_count": 25,
      "outputs": [
        {
          "output_type": "stream",
          "text": [
            "torch.Size([4, 3, 224, 224])\n",
            "torch.Size([3, 224, 224])\n",
            "0\n"
          ],
          "name": "stdout"
        }
      ]
    },
    {
      "cell_type": "code",
      "metadata": {
        "id": "cIoMcPgWAfxG",
        "colab_type": "code",
        "colab": {}
      },
      "source": [
        "def imshow(img, title):\n",
        "  nimg = img.numpy() / 2 + 0.5  # convert the image to numpy and re-normalize \n",
        "  plt.figure(figsize = (batch_size,1))\n",
        "  plt.axis(\"off\")\n",
        "  plt.imshow(np.transpose(nimg,(1,2,0)))  # converting the image to suit the built in imshow axis x,y,z \n",
        "  plt.title(title)\n",
        "  plt.show()"
      ],
      "execution_count": 0,
      "outputs": []
    },
    {
      "cell_type": "code",
      "metadata": {
        "id": "3ieQUeCeCAE-",
        "colab_type": "code",
        "colab": {}
      },
      "source": [
        "def show_batch_images(dataloader):\n",
        "  images, labels = iter(dataloader).next()\n",
        "  img = torchvision.utils.make_grid(images)\n",
        "  imshow(img,title=[str(x.item()) for x in labels])\n",
        "  "
      ],
      "execution_count": 0,
      "outputs": []
    },
    {
      "cell_type": "code",
      "metadata": {
        "id": "8-C_xj8kF4R7",
        "colab_type": "code",
        "outputId": "91b6ed0a-c351-4103-f3ba-567d5bbb57ff",
        "colab": {
          "base_uri": "https://localhost:8080/",
          "height": 352
        }
      },
      "source": [
        "\n",
        "for i in range(4):\n",
        "  show_batch_images(train_dataloader)"
      ],
      "execution_count": 28,
      "outputs": [
        {
          "output_type": "display_data",
          "data": {
            "image/png": "[encoded data removed]",
            "text/plain": [
              "<Figure size 288x72 with 1 Axes>"
            ]
          },
          "metadata": {
            "tags": [],
            "needs_background": "light"
          }
        },
        {
          "output_type": "display_data",
          "data": {
            "image/png": "[encoded data removed]",
            "text/plain": [
              "<Figure size 288x72 with 1 Axes>"
            ]
          },
          "metadata": {
            "tags": [],
            "needs_background": "light"
          }
        },
        {
          "output_type": "display_data",
          "data": {
            "image/png": "[encoded data removed]",
            "text/plain": [
              "<Figure size 288x72 with 1 Axes>"
            ]
          },
          "metadata": {
            "tags": [],
            "needs_background": "light"
          }
        },
        {
          "output_type": "display_data",
          "data": {
            "image/png": "[encoded data removed]",
            "text/plain": [
              "<Figure size 288x72 with 1 Axes>"
            ]
          },
          "metadata": {
            "tags": [],
            "needs_background": "light"
          }
        }
      ]
    },
    {
      "cell_type": "markdown",
      "metadata": {
        "id": "4l2BCdR2VPEC",
        "colab_type": "text"
      },
      "source": [
        "#Transfer Learning from Pre Trained Models "
      ]
    },
    {
      "cell_type": "code",
      "metadata": {
        "id": "TKI6BMU0VSVn",
        "colab_type": "code",
        "colab": {}
      },
      "source": [
        "batch_size = 16 \n",
        "trainloader = torch.utils.data.DataLoader(train_set,batch_size=batch_size, shuffle=True)\n",
        "testloader = torch.utils.data.DataLoader(test_set,batch_size=batch_size,shuffle=False)"
      ],
      "execution_count": 0,
      "outputs": []
    },
    {
      "cell_type": "code",
      "metadata": {
        "id": "IxmaeR_wWBAq",
        "colab_type": "code",
        "colab": {}
      },
      "source": [
        "vgg = models.vgg16_bn(pretrained=True)"
      ],
      "execution_count": 0,
      "outputs": []
    },
    {
      "cell_type": "code",
      "metadata": {
        "id": "Hlrtrld4XzTH",
        "colab_type": "code",
        "colab": {}
      },
      "source": [
        "for param in vgg.parameters():\n",
        "  param.requires_grad = False "
      ],
      "execution_count": 0,
      "outputs": []
    },
    {
      "cell_type": "code",
      "metadata": {
        "id": "6ruoiB9jYCP-",
        "colab_type": "code",
        "colab": {
          "base_uri": "https://localhost:8080/",
          "height": 960
        },
        "outputId": "ccd74ddf-506d-4a84-b67e-57c297977c4f"
      },
      "source": [
        "final_in_features = vgg.classifier[6].in_features\n",
        "vgg.classifier[6] = nn.Linear(final_in_features,num_classes)\n",
        "print(vgg)"
      ],
      "execution_count": 32,
      "outputs": [
        {
          "output_type": "stream",
          "text": [
            "VGG(\n",
            "  (features): Sequential(\n",
            "    (0): Conv2d(3, 64, kernel_size=(3, 3), stride=(1, 1), padding=(1, 1))\n",
            "    (1): BatchNorm2d(64, eps=1e-05, momentum=0.1, affine=True, track_running_stats=True)\n",
            "    (2): ReLU(inplace=True)\n",
            "    (3): Conv2d(64, 64, kernel_size=(3, 3), stride=(1, 1), padding=(1, 1))\n",
            "    (4): BatchNorm2d(64, eps=1e-05, momentum=0.1, affine=True, track_running_stats=True)\n",
            "    (5): ReLU(inplace=True)\n",
            "    (6): MaxPool2d(kernel_size=2, stride=2, padding=0, dilation=1, ceil_mode=False)\n",
            "    (7): Conv2d(64, 128, kernel_size=(3, 3), stride=(1, 1), padding=(1, 1))\n",
            "    (8): BatchNorm2d(128, eps=1e-05, momentum=0.1, affine=True, track_running_stats=True)\n",
            "    (9): ReLU(inplace=True)\n",
            "    (10): Conv2d(128, 128, kernel_size=(3, 3), stride=(1, 1), padding=(1, 1))\n",
            "    (11): BatchNorm2d(128, eps=1e-05, momentum=0.1, affine=True, track_running_stats=True)\n",
            "    (12): ReLU(inplace=True)\n",
            "    (13): MaxPool2d(kernel_size=2, stride=2, padding=0, dilation=1, ceil_mode=False)\n",
            "    (14): Conv2d(128, 256, kernel_size=(3, 3), stride=(1, 1), padding=(1, 1))\n",
            "    (15): BatchNorm2d(256, eps=1e-05, momentum=0.1, affine=True, track_running_stats=True)\n",
            "    (16): ReLU(inplace=True)\n",
            "    (17): Conv2d(256, 256, kernel_size=(3, 3), stride=(1, 1), padding=(1, 1))\n",
            "    (18): BatchNorm2d(256, eps=1e-05, momentum=0.1, affine=True, track_running_stats=True)\n",
            "    (19): ReLU(inplace=True)\n",
            "    (20): Conv2d(256, 256, kernel_size=(3, 3), stride=(1, 1), padding=(1, 1))\n",
            "    (21): BatchNorm2d(256, eps=1e-05, momentum=0.1, affine=True, track_running_stats=True)\n",
            "    (22): ReLU(inplace=True)\n",
            "    (23): MaxPool2d(kernel_size=2, stride=2, padding=0, dilation=1, ceil_mode=False)\n",
            "    (24): Conv2d(256, 512, kernel_size=(3, 3), stride=(1, 1), padding=(1, 1))\n",
            "    (25): BatchNorm2d(512, eps=1e-05, momentum=0.1, affine=True, track_running_stats=True)\n",
            "    (26): ReLU(inplace=True)\n",
            "    (27): Conv2d(512, 512, kernel_size=(3, 3), stride=(1, 1), padding=(1, 1))\n",
            "    (28): BatchNorm2d(512, eps=1e-05, momentum=0.1, affine=True, track_running_stats=True)\n",
            "    (29): ReLU(inplace=True)\n",
            "    (30): Conv2d(512, 512, kernel_size=(3, 3), stride=(1, 1), padding=(1, 1))\n",
            "    (31): BatchNorm2d(512, eps=1e-05, momentum=0.1, affine=True, track_running_stats=True)\n",
            "    (32): ReLU(inplace=True)\n",
            "    (33): MaxPool2d(kernel_size=2, stride=2, padding=0, dilation=1, ceil_mode=False)\n",
            "    (34): Conv2d(512, 512, kernel_size=(3, 3), stride=(1, 1), padding=(1, 1))\n",
            "    (35): BatchNorm2d(512, eps=1e-05, momentum=0.1, affine=True, track_running_stats=True)\n",
            "    (36): ReLU(inplace=True)\n",
            "    (37): Conv2d(512, 512, kernel_size=(3, 3), stride=(1, 1), padding=(1, 1))\n",
            "    (38): BatchNorm2d(512, eps=1e-05, momentum=0.1, affine=True, track_running_stats=True)\n",
            "    (39): ReLU(inplace=True)\n",
            "    (40): Conv2d(512, 512, kernel_size=(3, 3), stride=(1, 1), padding=(1, 1))\n",
            "    (41): BatchNorm2d(512, eps=1e-05, momentum=0.1, affine=True, track_running_stats=True)\n",
            "    (42): ReLU(inplace=True)\n",
            "    (43): MaxPool2d(kernel_size=2, stride=2, padding=0, dilation=1, ceil_mode=False)\n",
            "  )\n",
            "  (avgpool): AdaptiveAvgPool2d(output_size=(7, 7))\n",
            "  (classifier): Sequential(\n",
            "    (0): Linear(in_features=25088, out_features=4096, bias=True)\n",
            "    (1): ReLU(inplace=True)\n",
            "    (2): Dropout(p=0.5, inplace=False)\n",
            "    (3): Linear(in_features=4096, out_features=4096, bias=True)\n",
            "    (4): ReLU(inplace=True)\n",
            "    (5): Dropout(p=0.5, inplace=False)\n",
            "    (6): Linear(in_features=4096, out_features=10, bias=True)\n",
            "  )\n",
            ")\n"
          ],
          "name": "stdout"
        }
      ]
    },
    {
      "cell_type": "code",
      "metadata": {
        "id": "JIchPJIwZNJ7",
        "colab_type": "code",
        "outputId": "67778620-74e2-47f2-fee3-c22c5a9bd37e",
        "colab": {
          "base_uri": "https://localhost:8080/",
          "height": 50
        }
      },
      "source": [
        "for param in vgg.parameters():\n",
        "  if param.requires_grad:\n",
        "    print(param.shape)"
      ],
      "execution_count": 33,
      "outputs": [
        {
          "output_type": "stream",
          "text": [
            "torch.Size([10, 4096])\n",
            "torch.Size([10])\n"
          ],
          "name": "stdout"
        }
      ]
    },
    {
      "cell_type": "code",
      "metadata": {
        "id": "20mySK-ZZmbc",
        "colab_type": "code",
        "colab": {}
      },
      "source": [
        ""
      ],
      "execution_count": 0,
      "outputs": []
    },
    {
      "cell_type": "code",
      "metadata": {
        "id": "x9_MaQzEg-IF",
        "colab_type": "code",
        "colab": {}
      },
      "source": [
        "def evaluation(dataloader, model):\n",
        "  total , correct = 0 , 0 \n",
        "  for data in dataloader:\n",
        "\n",
        "    inputs, labels = data \n",
        "   \n",
        "    inputs, labels = inputs.to(device), labels.to(device)\n",
        "    outputs = model(inputs)\n",
        "    \n",
        "    _ , pred = torch.max(outputs.data,1)\n",
        "    \n",
        "    total += labels.size(0)\n",
        "    correct += (pred == labels).sum().item()\n",
        "  return 100 * (correct / total )\n"
      ],
      "execution_count": 0,
      "outputs": []
    },
    {
      "cell_type": "markdown",
      "metadata": {
        "id": "S-DUXypzet-Y",
        "colab_type": "text"
      },
      "source": [
        "#Checkpoints for capturing the state of network with minimum loss "
      ]
    },
    {
      "cell_type": "code",
      "metadata": {
        "id": "AlapdaiUfHHa",
        "colab_type": "code",
        "colab": {}
      },
      "source": [
        "\n",
        "import copy"
      ],
      "execution_count": 0,
      "outputs": []
    },
    {
      "cell_type": "code",
      "metadata": {
        "id": "ixRHp0tgamis",
        "colab_type": "code",
        "outputId": "33c0c384-aee1-48f2-f3c1-054a89bfc7b6",
        "colab": {
          "base_uri": "https://localhost:8080/",
          "height": 797
        }
      },
      "source": [
        "vgg = vgg.to(device)\n",
        "loss_fn = nn.CrossEntropyLoss()\n",
        "lr = [0.001, 0.0001]\n",
        "momentum = [0.5,0.9]\n",
        "func = [optim.SGD,optim.Adam,optim.Adagrad,optim.RMSprop ]\n",
        "for i in range(len(lr)):\n",
        "\n",
        "  for j in range(len(momentum)):\n",
        "    \n",
        "    for k in range(len(func)):\n",
        "\n",
        "      opt = func[k](vgg.parameters(),lr=lr[i],weight_decay=momentum[j])\n",
        "      \n",
        "\n",
        "      loss_arr = []\n",
        "      loss_arr_epoch = []\n",
        "      max_epoch = 1 \n",
        "      \n",
        "      n_iter = np.ceil(50000/batch_size)\n",
        "      print(func[k])\n",
        "      print(\"For weight decay : %f and For learning Rate : %f the mean loss is : %0.4f\" % (momentum[j], lr[i],min_loss))\n",
        "      min_loss = 1000\n",
        "\n",
        "      for epoch in range(max_epoch):\n",
        "\n",
        "        for k , data in enumerate(trainloader,0):\n",
        "\n",
        "          inputs, labels = data \n",
        "          inputs, labels = inputs.to(device), labels.to(device)\n",
        "          opt.zero_grad()\n",
        "          outputs = vgg(inputs)\n",
        "          loss = loss_fn(outputs,labels)\n",
        "          loss.backward()\n",
        "          opt.step()\n",
        "          if min_loss > loss.item():\n",
        "            min_loss = loss.item()\n",
        "            best_model = copy.deepcopy(vgg.state_dict())\n",
        "            #print(\"Min Loss %0.2f\"% min_loss)\n",
        "          #if i % 100 == 0 : \n",
        "            #print(\"Epoch %d/%d, Loss : %0.2f\"  % (i, n_iter,loss.item()))\n",
        "          \n",
        "          del inputs, labels, outputs \n",
        "          torch.cuda.empty_cache()\n",
        "        loss_arr_epoch.append(loss.item())\n",
        "        vgg.load_state_dict(best_model)\n",
        "        print(\"Epoch %d/%d , Test Accuracy : %0.2f , Train Accuracy : %0.2f\" % (epoch, max_epoch, evaluation(testloader,vgg), evaluation(trainloader,vgg)))\n"
      ],
      "execution_count": 37,
      "outputs": [
        {
          "output_type": "stream",
          "text": [
            "<class 'torch.optim.sgd.SGD'>\n",
            "For weight decay : 0.500000 and For learning Rate : 0.001000 the mean loss is : 1.2739\n",
            "Epoch 0/1 , Test Accuracy : 48.94 , Train Accuracy : 49.29\n",
            "<class 'torch.optim.adam.Adam'>\n",
            "For weight decay : 0.500000 and For learning Rate : 0.001000 the mean loss is : 1.0758\n",
            "Epoch 0/1 , Test Accuracy : 45.40 , Train Accuracy : 45.27\n",
            "<class 'torch.optim.adagrad.Adagrad'>\n",
            "For weight decay : 0.500000 and For learning Rate : 0.001000 the mean loss is : 1.0199\n",
            "Epoch 0/1 , Test Accuracy : 50.15 , Train Accuracy : 51.52\n",
            "<class 'torch.optim.rmsprop.RMSprop'>\n",
            "For weight decay : 0.500000 and For learning Rate : 0.001000 the mean loss is : 1.0681\n",
            "Epoch 0/1 , Test Accuracy : 39.31 , Train Accuracy : 38.90\n",
            "<class 'torch.optim.sgd.SGD'>\n",
            "For weight decay : 0.900000 and For learning Rate : 0.001000 the mean loss is : 0.9501\n",
            "Epoch 0/1 , Test Accuracy : 42.87 , Train Accuracy : 42.94\n",
            "<class 'torch.optim.adam.Adam'>\n",
            "For weight decay : 0.900000 and For learning Rate : 0.001000 the mean loss is : 1.0698\n",
            "Epoch 0/1 , Test Accuracy : 41.06 , Train Accuracy : 41.46\n",
            "<class 'torch.optim.adagrad.Adagrad'>\n",
            "For weight decay : 0.900000 and For learning Rate : 0.001000 the mean loss is : 1.1908\n",
            "Epoch 0/1 , Test Accuracy : 46.33 , Train Accuracy : 46.23\n",
            "<class 'torch.optim.rmsprop.RMSprop'>\n",
            "For weight decay : 0.900000 and For learning Rate : 0.001000 the mean loss is : 1.2588\n",
            "Epoch 0/1 , Test Accuracy : 36.17 , Train Accuracy : 35.41\n",
            "<class 'torch.optim.sgd.SGD'>\n",
            "For weight decay : 0.500000 and For learning Rate : 0.000100 the mean loss is : 1.2484\n",
            "Epoch 0/1 , Test Accuracy : 35.76 , Train Accuracy : 36.40\n",
            "<class 'torch.optim.adam.Adam'>\n",
            "For weight decay : 0.500000 and For learning Rate : 0.000100 the mean loss is : 1.1588\n",
            "Epoch 0/1 , Test Accuracy : 51.31 , Train Accuracy : 51.04\n",
            "<class 'torch.optim.adagrad.Adagrad'>\n",
            "For weight decay : 0.500000 and For learning Rate : 0.000100 the mean loss is : 1.0428\n",
            "Epoch 0/1 , Test Accuracy : 51.65 , Train Accuracy : 51.79\n",
            "<class 'torch.optim.rmsprop.RMSprop'>\n",
            "For weight decay : 0.500000 and For learning Rate : 0.000100 the mean loss is : 0.9889\n",
            "Epoch 0/1 , Test Accuracy : 50.22 , Train Accuracy : 50.23\n",
            "<class 'torch.optim.sgd.SGD'>\n",
            "For weight decay : 0.900000 and For learning Rate : 0.000100 the mean loss is : 1.0467\n",
            "Epoch 0/1 , Test Accuracy : 50.39 , Train Accuracy : 51.13\n",
            "<class 'torch.optim.adam.Adam'>\n",
            "For weight decay : 0.900000 and For learning Rate : 0.000100 the mean loss is : 1.0912\n",
            "Epoch 0/1 , Test Accuracy : 48.84 , Train Accuracy : 49.54\n",
            "<class 'torch.optim.adagrad.Adagrad'>\n",
            "For weight decay : 0.900000 and For learning Rate : 0.000100 the mean loss is : 1.1911\n",
            "Epoch 0/1 , Test Accuracy : 51.10 , Train Accuracy : 50.92\n",
            "<class 'torch.optim.rmsprop.RMSprop'>\n",
            "For weight decay : 0.900000 and For learning Rate : 0.000100 the mean loss is : 1.1832\n",
            "Epoch 0/1 , Test Accuracy : 47.22 , Train Accuracy : 46.92\n"
          ],
          "name": "stdout"
        }
      ]
    }
  ]
}