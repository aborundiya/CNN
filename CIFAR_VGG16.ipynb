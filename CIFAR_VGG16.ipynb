{
  "nbformat": 4,
  "nbformat_minor": 0,
  "metadata": {
    "colab": {
      "name": "CIFAR_VGG16.ipynb",
      "provenance": [],
      "authorship_tag": "ABX9TyND4J/BWIOLL9sO+ekT0k0S",
      "include_colab_link": true
    },
    "kernelspec": {
      "name": "python3",
      "display_name": "Python 3"
    },
    "accelerator": "GPU",
    "widgets": {
      "application/vnd.jupyter.widget-state+json": {
        "a0ed34a72a364c0eb0f0584ddc7230bb": {
          "model_module": "@jupyter-widgets/controls",
          "model_name": "HBoxModel",
          "state": {
            "_view_name": "HBoxView",
            "_dom_classes": [],
            "_model_name": "HBoxModel",
            "_view_module": "@jupyter-widgets/controls",
            "_model_module_version": "1.5.0",
            "_view_count": null,
            "_view_module_version": "1.5.0",
            "box_style": "",
            "layout": "IPY_MODEL_b6f602663e7f46919fafd1d13cad1304",
            "_model_module": "@jupyter-widgets/controls",
            "children": [
              "IPY_MODEL_389c83f6f46441c4baf20045e36c6bd5",
              "IPY_MODEL_c499d88a7f46401185137f237e86c6d6"
            ]
          }
        },
        "b6f602663e7f46919fafd1d13cad1304": {
          "model_module": "@jupyter-widgets/base",
          "model_name": "LayoutModel",
          "state": {
            "_view_name": "LayoutView",
            "grid_template_rows": null,
            "right": null,
            "justify_content": null,
            "_view_module": "@jupyter-widgets/base",
            "overflow": null,
            "_model_module_version": "1.2.0",
            "_view_count": null,
            "flex_flow": null,
            "width": null,
            "min_width": null,
            "border": null,
            "align_items": null,
            "bottom": null,
            "_model_module": "@jupyter-widgets/base",
            "top": null,
            "grid_column": null,
            "overflow_y": null,
            "overflow_x": null,
            "grid_auto_flow": null,
            "grid_area": null,
            "grid_template_columns": null,
            "flex": null,
            "_model_name": "LayoutModel",
            "justify_items": null,
            "grid_row": null,
            "max_height": null,
            "align_content": null,
            "visibility": null,
            "align_self": null,
            "height": null,
            "min_height": null,
            "padding": null,
            "grid_auto_rows": null,
            "grid_gap": null,
            "max_width": null,
            "order": null,
            "_view_module_version": "1.2.0",
            "grid_template_areas": null,
            "object_position": null,
            "object_fit": null,
            "grid_auto_columns": null,
            "margin": null,
            "display": null,
            "left": null
          }
        },
        "389c83f6f46441c4baf20045e36c6bd5": {
          "model_module": "@jupyter-widgets/controls",
          "model_name": "FloatProgressModel",
          "state": {
            "_view_name": "ProgressView",
            "style": "IPY_MODEL_6eb335e587054911985bd4a8a0abdb92",
            "_dom_classes": [],
            "description": "",
            "_model_name": "FloatProgressModel",
            "bar_style": "success",
            "max": 1,
            "_view_module": "@jupyter-widgets/controls",
            "_model_module_version": "1.5.0",
            "value": 1,
            "_view_count": null,
            "_view_module_version": "1.5.0",
            "orientation": "horizontal",
            "min": 0,
            "description_tooltip": null,
            "_model_module": "@jupyter-widgets/controls",
            "layout": "IPY_MODEL_77987acc7e6e43beb87964b746f62b69"
          }
        },
        "c499d88a7f46401185137f237e86c6d6": {
          "model_module": "@jupyter-widgets/controls",
          "model_name": "HTMLModel",
          "state": {
            "_view_name": "HTMLView",
            "style": "IPY_MODEL_a5af6590142542a7b6dceedd60a23c76",
            "_dom_classes": [],
            "description": "",
            "_model_name": "HTMLModel",
            "placeholder": "​",
            "_view_module": "@jupyter-widgets/controls",
            "_model_module_version": "1.5.0",
            "value": " 170500096/? [00:07&lt;00:00, 21833926.44it/s]",
            "_view_count": null,
            "_view_module_version": "1.5.0",
            "description_tooltip": null,
            "_model_module": "@jupyter-widgets/controls",
            "layout": "IPY_MODEL_5257c41e7f3941f68ee142137c0900a8"
          }
        },
        "6eb335e587054911985bd4a8a0abdb92": {
          "model_module": "@jupyter-widgets/controls",
          "model_name": "ProgressStyleModel",
          "state": {
            "_view_name": "StyleView",
            "_model_name": "ProgressStyleModel",
            "description_width": "initial",
            "_view_module": "@jupyter-widgets/base",
            "_model_module_version": "1.5.0",
            "_view_count": null,
            "_view_module_version": "1.2.0",
            "bar_color": null,
            "_model_module": "@jupyter-widgets/controls"
          }
        },
        "77987acc7e6e43beb87964b746f62b69": {
          "model_module": "@jupyter-widgets/base",
          "model_name": "LayoutModel",
          "state": {
            "_view_name": "LayoutView",
            "grid_template_rows": null,
            "right": null,
            "justify_content": null,
            "_view_module": "@jupyter-widgets/base",
            "overflow": null,
            "_model_module_version": "1.2.0",
            "_view_count": null,
            "flex_flow": null,
            "width": null,
            "min_width": null,
            "border": null,
            "align_items": null,
            "bottom": null,
            "_model_module": "@jupyter-widgets/base",
            "top": null,
            "grid_column": null,
            "overflow_y": null,
            "overflow_x": null,
            "grid_auto_flow": null,
            "grid_area": null,
            "grid_template_columns": null,
            "flex": null,
            "_model_name": "LayoutModel",
            "justify_items": null,
            "grid_row": null,
            "max_height": null,
            "align_content": null,
            "visibility": null,
            "align_self": null,
            "height": null,
            "min_height": null,
            "padding": null,
            "grid_auto_rows": null,
            "grid_gap": null,
            "max_width": null,
            "order": null,
            "_view_module_version": "1.2.0",
            "grid_template_areas": null,
            "object_position": null,
            "object_fit": null,
            "grid_auto_columns": null,
            "margin": null,
            "display": null,
            "left": null
          }
        },
        "a5af6590142542a7b6dceedd60a23c76": {
          "model_module": "@jupyter-widgets/controls",
          "model_name": "DescriptionStyleModel",
          "state": {
            "_view_name": "StyleView",
            "_model_name": "DescriptionStyleModel",
            "description_width": "",
            "_view_module": "@jupyter-widgets/base",
            "_model_module_version": "1.5.0",
            "_view_count": null,
            "_view_module_version": "1.2.0",
            "_model_module": "@jupyter-widgets/controls"
          }
        },
        "5257c41e7f3941f68ee142137c0900a8": {
          "model_module": "@jupyter-widgets/base",
          "model_name": "LayoutModel",
          "state": {
            "_view_name": "LayoutView",
            "grid_template_rows": null,
            "right": null,
            "justify_content": null,
            "_view_module": "@jupyter-widgets/base",
            "overflow": null,
            "_model_module_version": "1.2.0",
            "_view_count": null,
            "flex_flow": null,
            "width": null,
            "min_width": null,
            "border": null,
            "align_items": null,
            "bottom": null,
            "_model_module": "@jupyter-widgets/base",
            "top": null,
            "grid_column": null,
            "overflow_y": null,
            "overflow_x": null,
            "grid_auto_flow": null,
            "grid_area": null,
            "grid_template_columns": null,
            "flex": null,
            "_model_name": "LayoutModel",
            "justify_items": null,
            "grid_row": null,
            "max_height": null,
            "align_content": null,
            "visibility": null,
            "align_self": null,
            "height": null,
            "min_height": null,
            "padding": null,
            "grid_auto_rows": null,
            "grid_gap": null,
            "max_width": null,
            "order": null,
            "_view_module_version": "1.2.0",
            "grid_template_areas": null,
            "object_position": null,
            "object_fit": null,
            "grid_auto_columns": null,
            "margin": null,
            "display": null,
            "left": null
          }
        },
        "014349f1fd5041a5a3b6ecd9e4707cab": {
          "model_module": "@jupyter-widgets/controls",
          "model_name": "HBoxModel",
          "state": {
            "_view_name": "HBoxView",
            "_dom_classes": [],
            "_model_name": "HBoxModel",
            "_view_module": "@jupyter-widgets/controls",
            "_model_module_version": "1.5.0",
            "_view_count": null,
            "_view_module_version": "1.5.0",
            "box_style": "",
            "layout": "IPY_MODEL_11065da905d64a40847d11006421ed47",
            "_model_module": "@jupyter-widgets/controls",
            "children": [
              "IPY_MODEL_b0decb0c0a344b48bd3c42328a8e734c",
              "IPY_MODEL_d83911543a9e42acba085102556c4ce5"
            ]
          }
        },
        "11065da905d64a40847d11006421ed47": {
          "model_module": "@jupyter-widgets/base",
          "model_name": "LayoutModel",
          "state": {
            "_view_name": "LayoutView",
            "grid_template_rows": null,
            "right": null,
            "justify_content": null,
            "_view_module": "@jupyter-widgets/base",
            "overflow": null,
            "_model_module_version": "1.2.0",
            "_view_count": null,
            "flex_flow": null,
            "width": null,
            "min_width": null,
            "border": null,
            "align_items": null,
            "bottom": null,
            "_model_module": "@jupyter-widgets/base",
            "top": null,
            "grid_column": null,
            "overflow_y": null,
            "overflow_x": null,
            "grid_auto_flow": null,
            "grid_area": null,
            "grid_template_columns": null,
            "flex": null,
            "_model_name": "LayoutModel",
            "justify_items": null,
            "grid_row": null,
            "max_height": null,
            "align_content": null,
            "visibility": null,
            "align_self": null,
            "height": null,
            "min_height": null,
            "padding": null,
            "grid_auto_rows": null,
            "grid_gap": null,
            "max_width": null,
            "order": null,
            "_view_module_version": "1.2.0",
            "grid_template_areas": null,
            "object_position": null,
            "object_fit": null,
            "grid_auto_columns": null,
            "margin": null,
            "display": null,
            "left": null
          }
        },
        "b0decb0c0a344b48bd3c42328a8e734c": {
          "model_module": "@jupyter-widgets/controls",
          "model_name": "FloatProgressModel",
          "state": {
            "_view_name": "ProgressView",
            "style": "IPY_MODEL_aff1d72f921540fb9c73ae8872f716fe",
            "_dom_classes": [],
            "description": "100%",
            "_model_name": "FloatProgressModel",
            "bar_style": "success",
            "max": 553507836,
            "_view_module": "@jupyter-widgets/controls",
            "_model_module_version": "1.5.0",
            "value": 553507836,
            "_view_count": null,
            "_view_module_version": "1.5.0",
            "orientation": "horizontal",
            "min": 0,
            "description_tooltip": null,
            "_model_module": "@jupyter-widgets/controls",
            "layout": "IPY_MODEL_edeb9d94a1ec4163a6887d50f8e31ee0"
          }
        },
        "d83911543a9e42acba085102556c4ce5": {
          "model_module": "@jupyter-widgets/controls",
          "model_name": "HTMLModel",
          "state": {
            "_view_name": "HTMLView",
            "style": "IPY_MODEL_ad530fcf66cc43499d33eef8b88ce872",
            "_dom_classes": [],
            "description": "",
            "_model_name": "HTMLModel",
            "placeholder": "​",
            "_view_module": "@jupyter-widgets/controls",
            "_model_module_version": "1.5.0",
            "value": " 528M/528M [00:37&lt;00:00, 14.8MB/s]",
            "_view_count": null,
            "_view_module_version": "1.5.0",
            "description_tooltip": null,
            "_model_module": "@jupyter-widgets/controls",
            "layout": "IPY_MODEL_c9110616dc1e40de8a780ba58a4f0b16"
          }
        },
        "aff1d72f921540fb9c73ae8872f716fe": {
          "model_module": "@jupyter-widgets/controls",
          "model_name": "ProgressStyleModel",
          "state": {
            "_view_name": "StyleView",
            "_model_name": "ProgressStyleModel",
            "description_width": "initial",
            "_view_module": "@jupyter-widgets/base",
            "_model_module_version": "1.5.0",
            "_view_count": null,
            "_view_module_version": "1.2.0",
            "bar_color": null,
            "_model_module": "@jupyter-widgets/controls"
          }
        },
        "edeb9d94a1ec4163a6887d50f8e31ee0": {
          "model_module": "@jupyter-widgets/base",
          "model_name": "LayoutModel",
          "state": {
            "_view_name": "LayoutView",
            "grid_template_rows": null,
            "right": null,
            "justify_content": null,
            "_view_module": "@jupyter-widgets/base",
            "overflow": null,
            "_model_module_version": "1.2.0",
            "_view_count": null,
            "flex_flow": null,
            "width": null,
            "min_width": null,
            "border": null,
            "align_items": null,
            "bottom": null,
            "_model_module": "@jupyter-widgets/base",
            "top": null,
            "grid_column": null,
            "overflow_y": null,
            "overflow_x": null,
            "grid_auto_flow": null,
            "grid_area": null,
            "grid_template_columns": null,
            "flex": null,
            "_model_name": "LayoutModel",
            "justify_items": null,
            "grid_row": null,
            "max_height": null,
            "align_content": null,
            "visibility": null,
            "align_self": null,
            "height": null,
            "min_height": null,
            "padding": null,
            "grid_auto_rows": null,
            "grid_gap": null,
            "max_width": null,
            "order": null,
            "_view_module_version": "1.2.0",
            "grid_template_areas": null,
            "object_position": null,
            "object_fit": null,
            "grid_auto_columns": null,
            "margin": null,
            "display": null,
            "left": null
          }
        },
        "ad530fcf66cc43499d33eef8b88ce872": {
          "model_module": "@jupyter-widgets/controls",
          "model_name": "DescriptionStyleModel",
          "state": {
            "_view_name": "StyleView",
            "_model_name": "DescriptionStyleModel",
            "description_width": "",
            "_view_module": "@jupyter-widgets/base",
            "_model_module_version": "1.5.0",
            "_view_count": null,
            "_view_module_version": "1.2.0",
            "_model_module": "@jupyter-widgets/controls"
          }
        },
        "c9110616dc1e40de8a780ba58a4f0b16": {
          "model_module": "@jupyter-widgets/base",
          "model_name": "LayoutModel",
          "state": {
            "_view_name": "LayoutView",
            "grid_template_rows": null,
            "right": null,
            "justify_content": null,
            "_view_module": "@jupyter-widgets/base",
            "overflow": null,
            "_model_module_version": "1.2.0",
            "_view_count": null,
            "flex_flow": null,
            "width": null,
            "min_width": null,
            "border": null,
            "align_items": null,
            "bottom": null,
            "_model_module": "@jupyter-widgets/base",
            "top": null,
            "grid_column": null,
            "overflow_y": null,
            "overflow_x": null,
            "grid_auto_flow": null,
            "grid_area": null,
            "grid_template_columns": null,
            "flex": null,
            "_model_name": "LayoutModel",
            "justify_items": null,
            "grid_row": null,
            "max_height": null,
            "align_content": null,
            "visibility": null,
            "align_self": null,
            "height": null,
            "min_height": null,
            "padding": null,
            "grid_auto_rows": null,
            "grid_gap": null,
            "max_width": null,
            "order": null,
            "_view_module_version": "1.2.0",
            "grid_template_areas": null,
            "object_position": null,
            "object_fit": null,
            "grid_auto_columns": null,
            "margin": null,
            "display": null,
            "left": null
          }
        }
      }
    }
  },
  "cells": [
    {
      "cell_type": "markdown",
      "metadata": {
        "id": "view-in-github",
        "colab_type": "text"
      },
      "source": [
        "<a href=\"https://colab.research.google.com/github/aborundiya/CNN/blob/master/CIFAR_VGG16.ipynb\" target=\"_parent\"><img src=\"https://colab.research.google.com/assets/colab-badge.svg\" alt=\"Open In Colab\"/></a>"
      ]
    },
    {
      "cell_type": "code",
      "metadata": {
        "id": "tmhhvUrX8Xjr",
        "colab_type": "code",
        "colab": {}
      },
      "source": [
        "import numpy as np\n",
        "import matplotlib.pyplot as plt \n",
        "import torch \n",
        "import torchvision\n",
        "import torchvision.transforms as transforms\n",
        "import torch.nn as nn \n",
        "import torch.optim as optim \n",
        "from torchvision import  models "
      ],
      "execution_count": 0,
      "outputs": []
    },
    {
      "cell_type": "markdown",
      "metadata": {
        "id": "EWBs0ZD49CPX",
        "colab_type": "text"
      },
      "source": [
        "#checking if the GPU Is availbale"
      ]
    },
    {
      "cell_type": "code",
      "metadata": {
        "id": "E7V5qCir9KeK",
        "colab_type": "code",
        "outputId": "04c197da-4e2a-4636-9b36-762a39c28e8d",
        "colab": {
          "base_uri": "https://localhost:8080/",
          "height": 33
        }
      },
      "source": [
        "device = torch.device(\"cuda:0\" if torch.cuda.is_available() else \"cpu\")\n",
        "print(device)"
      ],
      "execution_count": 3,
      "outputs": [
        {
          "output_type": "stream",
          "text": [
            "cuda:0\n"
          ],
          "name": "stdout"
        }
      ]
    },
    {
      "cell_type": "markdown",
      "metadata": {
        "id": "jEgyx47885m5",
        "colab_type": "text"
      },
      "source": [
        "#Loading and Transforming the images "
      ]
    },
    {
      "cell_type": "code",
      "metadata": {
        "id": "emaBAuHa82D3",
        "colab_type": "code",
        "colab": {}
      },
      "source": [
        "transform_train = transforms.Compose([\n",
        "                                      transforms.RandomResizedCrop(224), \n",
        "                                      transforms.ToTensor(),\n",
        "                                      transforms.Normalize((0.5,0.5,0.5),(0.5,0.5,0.5))])\n",
        "transform_test = transforms.Compose([\n",
        "                                     transforms.RandomResizedCrop(224),\n",
        "                                     transforms.ToTensor(),\n",
        "                                     transforms.Normalize((0.5,0.5,0.5),(0.5,0.5,0.5))\n",
        "])"
      ],
      "execution_count": 0,
      "outputs": []
    },
    {
      "cell_type": "code",
      "metadata": {
        "id": "eAVSXfJi_DM4",
        "colab_type": "code",
        "outputId": "5ea91429-4964-4793-cbee-395670fc057b",
        "colab": {
          "base_uri": "https://localhost:8080/",
          "height": 97,
          "referenced_widgets": [
            "a0ed34a72a364c0eb0f0584ddc7230bb",
            "b6f602663e7f46919fafd1d13cad1304",
            "389c83f6f46441c4baf20045e36c6bd5",
            "c499d88a7f46401185137f237e86c6d6",
            "6eb335e587054911985bd4a8a0abdb92",
            "77987acc7e6e43beb87964b746f62b69",
            "a5af6590142542a7b6dceedd60a23c76",
            "5257c41e7f3941f68ee142137c0900a8"
          ]
        }
      },
      "source": [
        "train_set = torchvision.datasets.CIFAR10('./data',train=True, download=True, transform=transform_train)\n",
        "test_set = torchvision.datasets.CIFAR10('./data',train=False, download=True,transform=transform_test)"
      ],
      "execution_count": 5,
      "outputs": [
        {
          "output_type": "stream",
          "text": [
            "Downloading https://www.cs.toronto.edu/~kriz/cifar-10-python.tar.gz to ./data/cifar-10-python.tar.gz\n"
          ],
          "name": "stdout"
        },
        {
          "output_type": "display_data",
          "data": {
            "application/vnd.jupyter.widget-view+json": {
              "model_id": "a0ed34a72a364c0eb0f0584ddc7230bb",
              "version_minor": 0,
              "version_major": 2
            },
            "text/plain": [
              "HBox(children=(FloatProgress(value=1.0, bar_style='info', max=1.0), HTML(value='')))"
            ]
          },
          "metadata": {
            "tags": []
          }
        },
        {
          "output_type": "stream",
          "text": [
            "Extracting ./data/cifar-10-python.tar.gz to ./data\n",
            "Files already downloaded and verified\n"
          ],
          "name": "stdout"
        }
      ]
    },
    {
      "cell_type": "markdown",
      "metadata": {
        "id": "D40pKENkAByQ",
        "colab_type": "text"
      },
      "source": [
        "#Visualization of the dataset using dataloader and custom imshow "
      ]
    },
    {
      "cell_type": "code",
      "metadata": {
        "id": "kZ4C7gHGAEDI",
        "colab_type": "code",
        "outputId": "6410e6ce-2c72-490b-e896-a5799122ed00",
        "colab": {
          "base_uri": "https://localhost:8080/",
          "height": 66
        }
      },
      "source": [
        "num_classes = 10 \n",
        "batch_size = 4 \n",
        "train_dataloader = torch.utils.data.DataLoader(train_set, batch_size=batch_size, shuffle=True)\n",
        "images , labels = iter(train_dataloader).next()\n",
        "print(images.shape)\n",
        "print(images[1].shape)\n",
        "print(labels[1].item())"
      ],
      "execution_count": 6,
      "outputs": [
        {
          "output_type": "stream",
          "text": [
            "torch.Size([4, 3, 224, 224])\n",
            "torch.Size([3, 224, 224])\n",
            "2\n"
          ],
          "name": "stdout"
        }
      ]
    },
    {
      "cell_type": "code",
      "metadata": {
        "id": "cIoMcPgWAfxG",
        "colab_type": "code",
        "colab": {}
      },
      "source": [
        "def imshow(img, title):\n",
        "  nimg = img.numpy() / 2 + 0.5  # convert the image to numpy and re-normalize \n",
        "  plt.figure(figsize = (batch_size,1))\n",
        "  plt.axis(\"off\")\n",
        "  plt.imshow(np.transpose(nimg,(1,2,0)))  # converting the image to suit the built in imshow axis x,y,z \n",
        "  plt.title(title)\n",
        "  plt.show()"
      ],
      "execution_count": 0,
      "outputs": []
    },
    {
      "cell_type": "code",
      "metadata": {
        "id": "3ieQUeCeCAE-",
        "colab_type": "code",
        "colab": {}
      },
      "source": [
        "def show_batch_images(dataloader):\n",
        "  images, labels = iter(dataloader).next()\n",
        "  img = torchvision.utils.make_grid(images)\n",
        "  imshow(img,title=[str(x.item()) for x in labels])\n",
        "  "
      ],
      "execution_count": 0,
      "outputs": []
    },
    {
      "cell_type": "code",
      "metadata": {
        "id": "8-C_xj8kF4R7",
        "colab_type": "code",
        "outputId": "f9739448-b527-46eb-9c55-fb39bd688882",
        "colab": {
          "base_uri": "https://localhost:8080/",
          "height": 368
        }
      },
      "source": [
        "\n",
        "for i in range(4):\n",
        "  show_batch_images(train_dataloader)"
      ],
      "execution_count": 9,
      "outputs": [
        {
          "output_type": "display_data",
          "data": {
            "image/png": "[encoded data removed]",
            "text/plain": [
              "<Figure size 288x72 with 1 Axes>"
            ]
          },
          "metadata": {
            "tags": [],
            "needs_background": "light"
          }
        },
        {
          "output_type": "stream",
          "text": [
            "\n"
          ],
          "name": "stdout"
        },
        {
          "output_type": "display_data",
          "data": {
            "image/png": "[encoded data removed]",
            "text/plain": [
              "<Figure size 288x72 with 1 Axes>"
            ]
          },
          "metadata": {
            "tags": [],
            "needs_background": "light"
          }
        },
        {
          "output_type": "display_data",
          "data": {
            "image/png": "[encoded data removed]",
            "text/plain": [
              "<Figure size 288x72 with 1 Axes>"
            ]
          },
          "metadata": {
            "tags": [],
            "needs_background": "light"
          }
        },
        {
          "output_type": "display_data",
          "data": {
            "image/png": "[encoded data removed]",
            "text/plain": [
              "<Figure size 288x72 with 1 Axes>"
            ]
          },
          "metadata": {
            "tags": [],
            "needs_background": "light"
          }
        }
      ]
    },
    {
      "cell_type": "markdown",
      "metadata": {
        "id": "4l2BCdR2VPEC",
        "colab_type": "text"
      },
      "source": [
        "#Transfer Learning from Pre Trained Models "
      ]
    },
    {
      "cell_type": "code",
      "metadata": {
        "id": "TKI6BMU0VSVn",
        "colab_type": "code",
        "colab": {}
      },
      "source": [
        "batch_size = 16 \n",
        "trainloader = torch.utils.data.DataLoader(train_set,batch_size=batch_size, shuffle=True)\n",
        "testloader = torch.utils.data.DataLoader(test_set,batch_size=batch_size,shuffle=False)"
      ],
      "execution_count": 0,
      "outputs": []
    },
    {
      "cell_type": "code",
      "metadata": {
        "id": "IxmaeR_wWBAq",
        "colab_type": "code",
        "outputId": "a5567c59-fe9c-49ce-cc15-6b63d4a892ac",
        "colab": {
          "base_uri": "https://localhost:8080/",
          "height": 81,
          "referenced_widgets": [
            "014349f1fd5041a5a3b6ecd9e4707cab",
            "11065da905d64a40847d11006421ed47",
            "b0decb0c0a344b48bd3c42328a8e734c",
            "d83911543a9e42acba085102556c4ce5",
            "aff1d72f921540fb9c73ae8872f716fe",
            "edeb9d94a1ec4163a6887d50f8e31ee0",
            "ad530fcf66cc43499d33eef8b88ce872",
            "c9110616dc1e40de8a780ba58a4f0b16"
          ]
        }
      },
      "source": [
        "vgg = models.vgg16_bn(pretrained=True)"
      ],
      "execution_count": 11,
      "outputs": [
        {
          "output_type": "stream",
          "text": [
            "Downloading: \"https://download.pytorch.org/models/vgg16_bn-6c64b313.pth\" to /root/.cache/torch/checkpoints/vgg16_bn-6c64b313.pth\n"
          ],
          "name": "stderr"
        },
        {
          "output_type": "display_data",
          "data": {
            "application/vnd.jupyter.widget-view+json": {
              "model_id": "014349f1fd5041a5a3b6ecd9e4707cab",
              "version_minor": 0,
              "version_major": 2
            },
            "text/plain": [
              "HBox(children=(FloatProgress(value=0.0, max=553507836.0), HTML(value='')))"
            ]
          },
          "metadata": {
            "tags": []
          }
        },
        {
          "output_type": "stream",
          "text": [
            "\n"
          ],
          "name": "stdout"
        }
      ]
    },
    {
      "cell_type": "code",
      "metadata": {
        "id": "Hlrtrld4XzTH",
        "colab_type": "code",
        "colab": {}
      },
      "source": [
        "for param in vgg.parameters():\n",
        "  param.requires_grad = False "
      ],
      "execution_count": 0,
      "outputs": []
    },
    {
      "cell_type": "code",
      "metadata": {
        "id": "6ruoiB9jYCP-",
        "colab_type": "code",
        "colab": {
          "base_uri": "https://localhost:8080/",
          "height": 960
        },
        "outputId": "359dc822-a40a-4c6b-933d-ea36914288f3"
      },
      "source": [
        "final_in_features = vgg.classifier[6].in_features\n",
        "vgg.classifier[6] = nn.Linear(final_in_features,num_classes)\n",
        "print(vgg)"
      ],
      "execution_count": 13,
      "outputs": [
        {
          "output_type": "stream",
          "text": [
            "VGG(\n",
            "  (features): Sequential(\n",
            "    (0): Conv2d(3, 64, kernel_size=(3, 3), stride=(1, 1), padding=(1, 1))\n",
            "    (1): BatchNorm2d(64, eps=1e-05, momentum=0.1, affine=True, track_running_stats=True)\n",
            "    (2): ReLU(inplace=True)\n",
            "    (3): Conv2d(64, 64, kernel_size=(3, 3), stride=(1, 1), padding=(1, 1))\n",
            "    (4): BatchNorm2d(64, eps=1e-05, momentum=0.1, affine=True, track_running_stats=True)\n",
            "    (5): ReLU(inplace=True)\n",
            "    (6): MaxPool2d(kernel_size=2, stride=2, padding=0, dilation=1, ceil_mode=False)\n",
            "    (7): Conv2d(64, 128, kernel_size=(3, 3), stride=(1, 1), padding=(1, 1))\n",
            "    (8): BatchNorm2d(128, eps=1e-05, momentum=0.1, affine=True, track_running_stats=True)\n",
            "    (9): ReLU(inplace=True)\n",
            "    (10): Conv2d(128, 128, kernel_size=(3, 3), stride=(1, 1), padding=(1, 1))\n",
            "    (11): BatchNorm2d(128, eps=1e-05, momentum=0.1, affine=True, track_running_stats=True)\n",
            "    (12): ReLU(inplace=True)\n",
            "    (13): MaxPool2d(kernel_size=2, stride=2, padding=0, dilation=1, ceil_mode=False)\n",
            "    (14): Conv2d(128, 256, kernel_size=(3, 3), stride=(1, 1), padding=(1, 1))\n",
            "    (15): BatchNorm2d(256, eps=1e-05, momentum=0.1, affine=True, track_running_stats=True)\n",
            "    (16): ReLU(inplace=True)\n",
            "    (17): Conv2d(256, 256, kernel_size=(3, 3), stride=(1, 1), padding=(1, 1))\n",
            "    (18): BatchNorm2d(256, eps=1e-05, momentum=0.1, affine=True, track_running_stats=True)\n",
            "    (19): ReLU(inplace=True)\n",
            "    (20): Conv2d(256, 256, kernel_size=(3, 3), stride=(1, 1), padding=(1, 1))\n",
            "    (21): BatchNorm2d(256, eps=1e-05, momentum=0.1, affine=True, track_running_stats=True)\n",
            "    (22): ReLU(inplace=True)\n",
            "    (23): MaxPool2d(kernel_size=2, stride=2, padding=0, dilation=1, ceil_mode=False)\n",
            "    (24): Conv2d(256, 512, kernel_size=(3, 3), stride=(1, 1), padding=(1, 1))\n",
            "    (25): BatchNorm2d(512, eps=1e-05, momentum=0.1, affine=True, track_running_stats=True)\n",
            "    (26): ReLU(inplace=True)\n",
            "    (27): Conv2d(512, 512, kernel_size=(3, 3), stride=(1, 1), padding=(1, 1))\n",
            "    (28): BatchNorm2d(512, eps=1e-05, momentum=0.1, affine=True, track_running_stats=True)\n",
            "    (29): ReLU(inplace=True)\n",
            "    (30): Conv2d(512, 512, kernel_size=(3, 3), stride=(1, 1), padding=(1, 1))\n",
            "    (31): BatchNorm2d(512, eps=1e-05, momentum=0.1, affine=True, track_running_stats=True)\n",
            "    (32): ReLU(inplace=True)\n",
            "    (33): MaxPool2d(kernel_size=2, stride=2, padding=0, dilation=1, ceil_mode=False)\n",
            "    (34): Conv2d(512, 512, kernel_size=(3, 3), stride=(1, 1), padding=(1, 1))\n",
            "    (35): BatchNorm2d(512, eps=1e-05, momentum=0.1, affine=True, track_running_stats=True)\n",
            "    (36): ReLU(inplace=True)\n",
            "    (37): Conv2d(512, 512, kernel_size=(3, 3), stride=(1, 1), padding=(1, 1))\n",
            "    (38): BatchNorm2d(512, eps=1e-05, momentum=0.1, affine=True, track_running_stats=True)\n",
            "    (39): ReLU(inplace=True)\n",
            "    (40): Conv2d(512, 512, kernel_size=(3, 3), stride=(1, 1), padding=(1, 1))\n",
            "    (41): BatchNorm2d(512, eps=1e-05, momentum=0.1, affine=True, track_running_stats=True)\n",
            "    (42): ReLU(inplace=True)\n",
            "    (43): MaxPool2d(kernel_size=2, stride=2, padding=0, dilation=1, ceil_mode=False)\n",
            "  )\n",
            "  (avgpool): AdaptiveAvgPool2d(output_size=(7, 7))\n",
            "  (classifier): Sequential(\n",
            "    (0): Linear(in_features=25088, out_features=4096, bias=True)\n",
            "    (1): ReLU(inplace=True)\n",
            "    (2): Dropout(p=0.5, inplace=False)\n",
            "    (3): Linear(in_features=4096, out_features=4096, bias=True)\n",
            "    (4): ReLU(inplace=True)\n",
            "    (5): Dropout(p=0.5, inplace=False)\n",
            "    (6): Linear(in_features=4096, out_features=10, bias=True)\n",
            "  )\n",
            ")\n"
          ],
          "name": "stdout"
        }
      ]
    },
    {
      "cell_type": "code",
      "metadata": {
        "id": "JIchPJIwZNJ7",
        "colab_type": "code",
        "outputId": "884a3154-08ca-4cb2-d134-0b8f8ca9807d",
        "colab": {
          "base_uri": "https://localhost:8080/",
          "height": 50
        }
      },
      "source": [
        "for param in vgg.parameters():\n",
        "  if param.requires_grad:\n",
        "    print(param.shape)"
      ],
      "execution_count": 14,
      "outputs": [
        {
          "output_type": "stream",
          "text": [
            "torch.Size([10, 4096])\n",
            "torch.Size([10])\n"
          ],
          "name": "stdout"
        }
      ]
    },
    {
      "cell_type": "code",
      "metadata": {
        "id": "20mySK-ZZmbc",
        "colab_type": "code",
        "colab": {}
      },
      "source": [
        ""
      ],
      "execution_count": 0,
      "outputs": []
    },
    {
      "cell_type": "code",
      "metadata": {
        "id": "x9_MaQzEg-IF",
        "colab_type": "code",
        "colab": {}
      },
      "source": [
        "def evaluation(dataloader, model):\n",
        "  total , correct = 0 , 0 \n",
        "  for data in dataloader:\n",
        "\n",
        "    inputs, labels = data \n",
        "   \n",
        "    inputs, labels = inputs.to(device), labels.to(device)\n",
        "    outputs = model(inputs)\n",
        "    \n",
        "    _ , pred = torch.max(outputs.data,1)\n",
        "    \n",
        "    total += labels.size(0)\n",
        "    correct += (pred == labels).sum().item()\n",
        "  return 100 * (correct / total )\n"
      ],
      "execution_count": 0,
      "outputs": []
    },
    {
      "cell_type": "markdown",
      "metadata": {
        "id": "S-DUXypzet-Y",
        "colab_type": "text"
      },
      "source": [
        "#Checkpoints for capturing the state of network with minimum loss "
      ]
    },
    {
      "cell_type": "code",
      "metadata": {
        "id": "AlapdaiUfHHa",
        "colab_type": "code",
        "colab": {}
      },
      "source": [
        "\n",
        "import copy"
      ],
      "execution_count": 0,
      "outputs": []
    },
    {
      "cell_type": "code",
      "metadata": {
        "id": "ixRHp0tgamis",
        "colab_type": "code",
        "outputId": "63930c17-43b8-44eb-b542-02f411c2b523",
        "colab": {
          "base_uri": "https://localhost:8080/",
          "height": 456
        }
      },
      "source": [
        "vgg = vgg.to(device)\n",
        "loss_fn = nn.CrossEntropyLoss()\n",
        "lr = [0.1, 0.01, 0.001, 0.0001]\n",
        "momentum = [0.5,0.6,0.7,0.8,0.9]\n",
        "func = [optim.SGD,optim.Adam,optim.Adagrad,optim.RMSprop ]\n",
        "for i in range(len(lr)):\n",
        "\n",
        "  for j in range(len(momentum)):\n",
        "    \n",
        "    opt = optim.Adam(vgg.parameters(),lr=lr[i],weight_decay=momentum[j])\n",
        "\n",
        "    loss_arr = []\n",
        "    loss_arr_epoch = []\n",
        "    max_epoch = 1 \n",
        "    \n",
        "    n_iter = np.ceil(50000/batch_size)\n",
        "    print(\"For weight decay : %f and For learning Rate : %f the mean loss is : %0.4f\" % (momentum[j], lr[i],min_loss))\n",
        "    min_loss = 1000\n",
        "\n",
        "    for epoch in range(max_epoch):\n",
        "\n",
        "      for k , data in enumerate(trainloader,0):\n",
        "\n",
        "        inputs, labels = data \n",
        "        inputs, labels = inputs.to(device), labels.to(device)\n",
        "        opt.zero_grad()\n",
        "        outputs = vgg(inputs)\n",
        "        loss = loss_fn(outputs,labels)\n",
        "        loss.backward()\n",
        "        opt.step()\n",
        "        if min_loss > loss.item():\n",
        "          min_loss = loss.item()\n",
        "          best_model = copy.deepcopy(vgg.state_dict())\n",
        "          #print(\"Min Loss %0.2f\"% min_loss)\n",
        "        #if i % 100 == 0 : \n",
        "          #print(\"Epoch %d/%d, Loss : %0.2f\"  % (i, n_iter,loss.item()))\n",
        "         \n",
        "        del inputs, labels, outputs \n",
        "        torch.cuda.empty_cache()\n",
        "      loss_arr_epoch.append(loss.item())\n",
        "      vgg.load_state_dict(best_model)\n",
        "      print(\"Epoch %d/%d , Test Accuracy : %0.2f , Train Accuracy : %0.2f\" % (epoch, max_epoch, evaluation(testloader,vgg), evaluation(trainloader,vgg)))\n"
      ],
      "execution_count": 0,
      "outputs": [
        {
          "output_type": "stream",
          "text": [
            "For weight decay : 0.500000 and For learning Rate : 0.100000 the mean loss is : 2.3574\n",
            "Epoch 0/1 , Test Accuracy : 18.80 , Train Accuracy : 18.47\n",
            "For weight decay : 0.600000 and For learning Rate : 0.100000 the mean loss is : 3.9297\n",
            "Epoch 0/1 , Test Accuracy : 10.28 , Train Accuracy : 10.36\n",
            "For weight decay : 0.700000 and For learning Rate : 0.100000 the mean loss is : 3.0724\n",
            "Epoch 0/1 , Test Accuracy : 16.41 , Train Accuracy : 16.13\n",
            "For weight decay : 0.800000 and For learning Rate : 0.100000 the mean loss is : 3.4151\n",
            "Epoch 0/1 , Test Accuracy : 16.15 , Train Accuracy : 15.93\n",
            "For weight decay : 0.900000 and For learning Rate : 0.100000 the mean loss is : 2.8869\n",
            "Epoch 0/1 , Test Accuracy : 14.96 , Train Accuracy : 14.85\n",
            "For weight decay : 0.500000 and For learning Rate : 0.010000 the mean loss is : 3.3794\n",
            "Epoch 0/1 , Test Accuracy : 28.42 , Train Accuracy : 28.32\n",
            "For weight decay : 0.600000 and For learning Rate : 0.010000 the mean loss is : 1.2329\n",
            "Epoch 0/1 , Test Accuracy : 21.55 , Train Accuracy : 21.70\n",
            "For weight decay : 0.700000 and For learning Rate : 0.010000 the mean loss is : 1.0612\n",
            "Epoch 0/1 , Test Accuracy : 24.26 , Train Accuracy : 23.75\n",
            "For weight decay : 0.800000 and For learning Rate : 0.010000 the mean loss is : 0.9926\n",
            "Epoch 0/1 , Test Accuracy : 23.14 , Train Accuracy : 23.49\n",
            "For weight decay : 0.900000 and For learning Rate : 0.010000 the mean loss is : 1.1384\n",
            "Epoch 0/1 , Test Accuracy : 28.66 , Train Accuracy : 28.37\n",
            "For weight decay : 0.500000 and For learning Rate : 0.001000 the mean loss is : 1.3265\n",
            "Epoch 0/1 , Test Accuracy : 39.54 , Train Accuracy : 39.94\n",
            "For weight decay : 0.600000 and For learning Rate : 0.001000 the mean loss is : 1.0720\n",
            "Epoch 0/1 , Test Accuracy : 43.65 , Train Accuracy : 44.44\n",
            "For weight decay : 0.700000 and For learning Rate : 0.001000 the mean loss is : 1.0476\n",
            "Epoch 0/1 , Test Accuracy : 38.06 , Train Accuracy : 37.46\n",
            "For weight decay : 0.800000 and For learning Rate : 0.001000 the mean loss is : 1.0997\n"
          ],
          "name": "stdout"
        }
      ]
    },
    {
      "cell_type": "markdown",
      "metadata": {
        "id": "7F24uyYYR_qw",
        "colab_type": "text"
      },
      "source": [
        "#SGD Output\n",
        "\n",
        "or momentum : 0.500000 and For learning Rate : 0.100000 the mean loss is : 1000.0000\n",
        "Epoch 0/1 , Test Accuracy : 44.28 , Train Accuracy : 44.08\n",
        "For momentum : 0.600000 and For learning Rate : 0.100000 the mean loss is : 1000.0000\n",
        "Epoch 0/1 , Test Accuracy : 41.56 , Train Accuracy : 41.85\n",
        "For momentum : 0.700000 and For learning Rate : 0.100000 the mean loss is : 1000.0000\n",
        "Epoch 0/1 , Test Accuracy : 44.06 , Train Accuracy : 43.74\n",
        "For momentum : 0.800000 and For learning Rate : 0.100000 the mean loss is : 1000.0000\n",
        "Epoch 0/1 , Test Accuracy : 40.59 , Train Accuracy : 40.39\n",
        "For momentum : 0.900000 and For learning Rate : 0.100000 the mean loss is : 1000.0000\n",
        "Epoch 0/1 , Test Accuracy : 41.26 , Train Accuracy : 42.44\n",
        "For momentum : 0.500000 and For learning Rate : 0.010000 the mean loss is : 1000.0000\n",
        "Epoch 0/1 , Test Accuracy : 44.56 , Train Accuracy : 45.42\n",
        "For momentum : 0.600000 and For learning Rate : 0.010000 the mean loss is : 1000.0000\n",
        "Epoch 0/1 , Test Accuracy : 44.85 , Train Accuracy : 45.50\n",
        "For momentum : 0.700000 and For learning Rate : 0.010000 the mean loss is : 1000.0000\n",
        "Epoch 0/1 , Test Accuracy : 45.34 , Train Accuracy : 45.26\n",
        "For momentum : 0.800000 and For learning Rate : 0.010000 the mean loss is : 1000.0000\n",
        "Epoch 0/1 , Test Accuracy : 44.52 , Train Accuracy : 45.18\n",
        "For momentum : 0.900000 and For learning Rate : 0.010000 the mean loss is : 1000.0000\n",
        "Epoch 0/1 , Test Accuracy : 44.29 , Train Accuracy : 45.38\n",
        "For momentum : 0.500000 and For learning Rate : 0.001000 the mean loss is : 1000.0000\n",
        "Epoch 0/1 , Test Accuracy : 44.43 , Train Accuracy : 45.51\n",
        "For momentum : 0.600000 and For learning Rate : 0.001000 the mean loss is : 1000.0000\n",
        "Epoch 0/1 , Test Accuracy : 45.66 , Train Accuracy : 45.30\n",
        "For momentum : 0.700000 and For learning Rate : 0.001000 the mean loss is : 1000.0000\n",
        "Epoch 0/1 , Test Accuracy : 45.18 , Train Accuracy : 45.32\n",
        "For momentum : 0.800000 and For learning Rate : 0.001000 the mean loss is : 1000.0000\n",
        "Epoch 0/1 , Test Accuracy : 44.43 , Train Accuracy : 45.66\n",
        "For momentum : 0.900000 and For learning Rate : 0.001000 the mean loss is : 1000.0000\n",
        "Epoch 0/1 , Test Accuracy : 45.54 , Train Accuracy : 45.70\n",
        "For momentum : 0.500000 and For learning Rate : 0.000100 the mean loss is : 1000.0000\n",
        "Epoch 0/1 , Test Accuracy : 45.16 , Train Accuracy : 45.58\n",
        "For momentum : 0.600000 and For learning Rate : 0.000100 the mean loss is : 1000.0000\n",
        "Epoch 0/1 , Test Accuracy : 45.63 , Train Accuracy : 45.61\n",
        "For momentum : 0.700000 and For learning Rate : 0.000100 the mean loss is : 1000.0000\n",
        "Epoch 0/1 , Test Accuracy : 44.81 , Train Accuracy : 45.71\n",
        "For momentum : 0.800000 and For learning Rate : 0.000100 the mean loss is : 1000.0000\n",
        "Epoch 0/1 , Test Accuracy : 44.88 , Train Accuracy : 45.50\n",
        "For momentum : 0.900000 and For learning Rate : 0.000100 the mean loss is : 1000.0000\n",
        "Epoch 0/1 , Test Accuracy : 45.42 , Train Accuracy : 45.60"
      ]
    },
    {
      "cell_type": "code",
      "metadata": {
        "id": "qw1XPJh_8ubl",
        "colab_type": "code",
        "colab": {}
      },
      "source": [
        ""
      ],
      "execution_count": 0,
      "outputs": []
    }
  ]
}