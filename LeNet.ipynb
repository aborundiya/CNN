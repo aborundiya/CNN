{
  "nbformat": 4,
  "nbformat_minor": 0,
  "metadata": {
    "colab": {
      "name": "LeNet.ipynb",
      "provenance": [],
      "authorship_tag": "ABX9TyPhMebdvYIc9BUc36hLPWKU",
      "include_colab_link": true
    },
    "kernelspec": {
      "name": "python3",
      "display_name": "Python 3"
    },
    "accelerator": "GPU",
    "widgets": {
      "application/vnd.jupyter.widget-state+json": {
        "8ca2fdafc6fd4116b8697f685837cd37": {
          "model_module": "@jupyter-widgets/controls",
          "model_name": "HBoxModel",
          "state": {
            "_view_name": "HBoxView",
            "_dom_classes": [],
            "_model_name": "HBoxModel",
            "_view_module": "@jupyter-widgets/controls",
            "_model_module_version": "1.5.0",
            "_view_count": null,
            "_view_module_version": "1.5.0",
            "box_style": "",
            "layout": "IPY_MODEL_5848a64fee694ef98d4b7e79f06c2a4c",
            "_model_module": "@jupyter-widgets/controls",
            "children": [
              "IPY_MODEL_ae84b4dff2754d64b45ef4be185d3684",
              "IPY_MODEL_67a62072a5ab4ce3a9a36a57e07fdf5e"
            ]
          }
        },
        "5848a64fee694ef98d4b7e79f06c2a4c": {
          "model_module": "@jupyter-widgets/base",
          "model_name": "LayoutModel",
          "state": {
            "_view_name": "LayoutView",
            "grid_template_rows": null,
            "right": null,
            "justify_content": null,
            "_view_module": "@jupyter-widgets/base",
            "overflow": null,
            "_model_module_version": "1.2.0",
            "_view_count": null,
            "flex_flow": null,
            "width": null,
            "min_width": null,
            "border": null,
            "align_items": null,
            "bottom": null,
            "_model_module": "@jupyter-widgets/base",
            "top": null,
            "grid_column": null,
            "overflow_y": null,
            "overflow_x": null,
            "grid_auto_flow": null,
            "grid_area": null,
            "grid_template_columns": null,
            "flex": null,
            "_model_name": "LayoutModel",
            "justify_items": null,
            "grid_row": null,
            "max_height": null,
            "align_content": null,
            "visibility": null,
            "align_self": null,
            "height": null,
            "min_height": null,
            "padding": null,
            "grid_auto_rows": null,
            "grid_gap": null,
            "max_width": null,
            "order": null,
            "_view_module_version": "1.2.0",
            "grid_template_areas": null,
            "object_position": null,
            "object_fit": null,
            "grid_auto_columns": null,
            "margin": null,
            "display": null,
            "left": null
          }
        },
        "ae84b4dff2754d64b45ef4be185d3684": {
          "model_module": "@jupyter-widgets/controls",
          "model_name": "FloatProgressModel",
          "state": {
            "_view_name": "ProgressView",
            "style": "IPY_MODEL_04d1ff47e49441c2a9201bca1379f08f",
            "_dom_classes": [],
            "description": "",
            "_model_name": "FloatProgressModel",
            "bar_style": "info",
            "max": 1,
            "_view_module": "@jupyter-widgets/controls",
            "_model_module_version": "1.5.0",
            "value": 1,
            "_view_count": null,
            "_view_module_version": "1.5.0",
            "orientation": "horizontal",
            "min": 0,
            "description_tooltip": null,
            "_model_module": "@jupyter-widgets/controls",
            "layout": "IPY_MODEL_c287385a3ff6437cb5fa9c18c39018df"
          }
        },
        "67a62072a5ab4ce3a9a36a57e07fdf5e": {
          "model_module": "@jupyter-widgets/controls",
          "model_name": "HTMLModel",
          "state": {
            "_view_name": "HTMLView",
            "style": "IPY_MODEL_c61fd9439a0f4c18b8d9c34248351783",
            "_dom_classes": [],
            "description": "",
            "_model_name": "HTMLModel",
            "placeholder": "​",
            "_view_module": "@jupyter-widgets/controls",
            "_model_module_version": "1.5.0",
            "value": " 170500096/? [00:20&lt;00:00, 79148806.94it/s]",
            "_view_count": null,
            "_view_module_version": "1.5.0",
            "description_tooltip": null,
            "_model_module": "@jupyter-widgets/controls",
            "layout": "IPY_MODEL_b6833fc8cee340568fae3a1da8bac22b"
          }
        },
        "04d1ff47e49441c2a9201bca1379f08f": {
          "model_module": "@jupyter-widgets/controls",
          "model_name": "ProgressStyleModel",
          "state": {
            "_view_name": "StyleView",
            "_model_name": "ProgressStyleModel",
            "description_width": "initial",
            "_view_module": "@jupyter-widgets/base",
            "_model_module_version": "1.5.0",
            "_view_count": null,
            "_view_module_version": "1.2.0",
            "bar_color": null,
            "_model_module": "@jupyter-widgets/controls"
          }
        },
        "c287385a3ff6437cb5fa9c18c39018df": {
          "model_module": "@jupyter-widgets/base",
          "model_name": "LayoutModel",
          "state": {
            "_view_name": "LayoutView",
            "grid_template_rows": null,
            "right": null,
            "justify_content": null,
            "_view_module": "@jupyter-widgets/base",
            "overflow": null,
            "_model_module_version": "1.2.0",
            "_view_count": null,
            "flex_flow": null,
            "width": null,
            "min_width": null,
            "border": null,
            "align_items": null,
            "bottom": null,
            "_model_module": "@jupyter-widgets/base",
            "top": null,
            "grid_column": null,
            "overflow_y": null,
            "overflow_x": null,
            "grid_auto_flow": null,
            "grid_area": null,
            "grid_template_columns": null,
            "flex": null,
            "_model_name": "LayoutModel",
            "justify_items": null,
            "grid_row": null,
            "max_height": null,
            "align_content": null,
            "visibility": null,
            "align_self": null,
            "height": null,
            "min_height": null,
            "padding": null,
            "grid_auto_rows": null,
            "grid_gap": null,
            "max_width": null,
            "order": null,
            "_view_module_version": "1.2.0",
            "grid_template_areas": null,
            "object_position": null,
            "object_fit": null,
            "grid_auto_columns": null,
            "margin": null,
            "display": null,
            "left": null
          }
        },
        "c61fd9439a0f4c18b8d9c34248351783": {
          "model_module": "@jupyter-widgets/controls",
          "model_name": "DescriptionStyleModel",
          "state": {
            "_view_name": "StyleView",
            "_model_name": "DescriptionStyleModel",
            "description_width": "",
            "_view_module": "@jupyter-widgets/base",
            "_model_module_version": "1.5.0",
            "_view_count": null,
            "_view_module_version": "1.2.0",
            "_model_module": "@jupyter-widgets/controls"
          }
        },
        "b6833fc8cee340568fae3a1da8bac22b": {
          "model_module": "@jupyter-widgets/base",
          "model_name": "LayoutModel",
          "state": {
            "_view_name": "LayoutView",
            "grid_template_rows": null,
            "right": null,
            "justify_content": null,
            "_view_module": "@jupyter-widgets/base",
            "overflow": null,
            "_model_module_version": "1.2.0",
            "_view_count": null,
            "flex_flow": null,
            "width": null,
            "min_width": null,
            "border": null,
            "align_items": null,
            "bottom": null,
            "_model_module": "@jupyter-widgets/base",
            "top": null,
            "grid_column": null,
            "overflow_y": null,
            "overflow_x": null,
            "grid_auto_flow": null,
            "grid_area": null,
            "grid_template_columns": null,
            "flex": null,
            "_model_name": "LayoutModel",
            "justify_items": null,
            "grid_row": null,
            "max_height": null,
            "align_content": null,
            "visibility": null,
            "align_self": null,
            "height": null,
            "min_height": null,
            "padding": null,
            "grid_auto_rows": null,
            "grid_gap": null,
            "max_width": null,
            "order": null,
            "_view_module_version": "1.2.0",
            "grid_template_areas": null,
            "object_position": null,
            "object_fit": null,
            "grid_auto_columns": null,
            "margin": null,
            "display": null,
            "left": null
          }
        }
      }
    }
  },
  "cells": [
    {
      "cell_type": "markdown",
      "metadata": {
        "id": "view-in-github",
        "colab_type": "text"
      },
      "source": [
        "<a href=\"https://colab.research.google.com/github/aborundiya/CNN/blob/master/LeNet.ipynb\" target=\"_parent\"><img src=\"https://colab.research.google.com/assets/colab-badge.svg\" alt=\"Open In Colab\"/></a>"
      ]
    },
    {
      "cell_type": "code",
      "metadata": {
        "id": "Gi6nsCRncJRT",
        "colab_type": "code",
        "colab": {}
      },
      "source": [
        "import torch\n",
        "import torchvision\n",
        "import torchvision.transforms as transform\n",
        "from torch import nn as nn\n",
        "import numpy as np\n",
        "import matplotlib.pyplot as plt"
      ],
      "execution_count": 0,
      "outputs": []
    },
    {
      "cell_type": "markdown",
      "metadata": {
        "id": "hs8axv77u2tq",
        "colab_type": "text"
      },
      "source": [
        "# Import Data set"
      ]
    },
    {
      "cell_type": "code",
      "metadata": {
        "id": "zdPp_sHFu4x6",
        "colab_type": "code",
        "colab": {
          "base_uri": "https://localhost:8080/",
          "height": 84,
          "referenced_widgets": [
            "8ca2fdafc6fd4116b8697f685837cd37",
            "5848a64fee694ef98d4b7e79f06c2a4c",
            "ae84b4dff2754d64b45ef4be185d3684",
            "67a62072a5ab4ce3a9a36a57e07fdf5e",
            "04d1ff47e49441c2a9201bca1379f08f",
            "c287385a3ff6437cb5fa9c18c39018df",
            "c61fd9439a0f4c18b8d9c34248351783",
            "b6833fc8cee340568fae3a1da8bac22b"
          ]
        },
        "outputId": "0a13423f-752f-4c15-f319-2409feb2d8c9"
      },
      "source": [
        "trainset = torchvision.datasets.CIFAR10('./data',train=True, download=True, transform=transform.ToTensor())"
      ],
      "execution_count": 3,
      "outputs": [
        {
          "output_type": "stream",
          "text": [
            "Downloading https://www.cs.toronto.edu/~kriz/cifar-10-python.tar.gz to ./data/cifar-10-python.tar.gz\n"
          ],
          "name": "stdout"
        },
        {
          "output_type": "display_data",
          "data": {
            "application/vnd.jupyter.widget-view+json": {
              "model_id": "8ca2fdafc6fd4116b8697f685837cd37",
              "version_minor": 0,
              "version_major": 2
            },
            "text/plain": [
              "HBox(children=(FloatProgress(value=1.0, bar_style='info', max=1.0), HTML(value='')))"
            ]
          },
          "metadata": {
            "tags": []
          }
        },
        {
          "output_type": "stream",
          "text": [
            "Extracting ./data/cifar-10-python.tar.gz to ./data\n"
          ],
          "name": "stdout"
        }
      ]
    },
    {
      "cell_type": "code",
      "metadata": {
        "id": "zkLJuuBWvcV3",
        "colab_type": "code",
        "colab": {}
      },
      "source": [
        "classes = (\"plane\",\"automobile\",\"bird\",\"cat\",\"deer\",\"dog\",\"frog\",\"horse\",\"ship\",\"truck\")\n",
        "trainloader = torch.utils.data.DataLoader(trainset,batch_size=4,shuffle=True)"
      ],
      "execution_count": 0,
      "outputs": []
    },
    {
      "cell_type": "code",
      "metadata": {
        "id": "yJ9LGcSVv1Dr",
        "colab_type": "code",
        "colab": {}
      },
      "source": [
        "dataiter = iter(trainloader)\n",
        "images, labels = dataiter.next()"
      ],
      "execution_count": 0,
      "outputs": []
    },
    {
      "cell_type": "code",
      "metadata": {
        "id": "UL-8_JQIc3vq",
        "colab_type": "code",
        "colab": {}
      },
      "source": [
        "class LeNet(nn.Module):\n",
        "\n",
        "  def __init__(self):\n",
        "    super(LeNet,self).__init__()\n",
        "    self.cnnModel = nn.Sequential(\n",
        "        nn.Conv2d(3,6,5),     # (N , 3, 32, 32 ) - > ( N , 6, 28,28)\n",
        "        nn.ReLU(),\n",
        "        nn.AvgPool2d(2,stride=2),  # (N,6,28,28)  - > ( N, 6, 14,14)\n",
        "        nn.Conv2d(6,16,5) ,       # ( N, 6, 14, 14 ) - > (N, 16,10, 10)\n",
        "        nn.ReLU(),\n",
        "        nn.AvgPool2d(2,stride=2)  # (N,16, 10,10) -> (N,16, 5, 5,)\n",
        "    )\n",
        "    self.fcModel = nn.Sequential(\n",
        "        nn.Linear(400,120),     # (N, 400)  -> ( N , 120)\n",
        "        nn.ReLU(),\n",
        "        nn.Linear(120,84),     # (N,120)  -> ( N ,84)\n",
        "        nn.ReLU(),\n",
        "        nn.Linear(84,10)      #(N,84 )  -> ( N ,10)\n",
        "    )\n",
        "\n",
        "  def forward(self,x):\n",
        "    #print(x.shape)\n",
        "    x = self.cnnModel(x)\n",
        "    #print(x.shape)\n",
        "    x = x.view(x.size(0),-1)  # flatten the Tensor with same size of N\n",
        "    #print(x.shape)\n",
        "    x = self.fcModel(x)\n",
        "    #print(x.shape)\n",
        "    return x\n"
      ],
      "execution_count": 0,
      "outputs": []
    },
    {
      "cell_type": "code",
      "metadata": {
        "id": "PRjyp38ktPqH",
        "colab_type": "code",
        "colab": {}
      },
      "source": [
        "net = LeNet()\n",
        "out = net(images)"
      ],
      "execution_count": 0,
      "outputs": []
    },
    {
      "cell_type": "code",
      "metadata": {
        "id": "suy48JXzwDoX",
        "colab_type": "code",
        "colab": {
          "base_uri": "https://localhost:8080/",
          "height": 158
        },
        "outputId": "03a42b56-85a6-46b6-875a-f57de60f308d"
      },
      "source": [
        "print(out)"
      ],
      "execution_count": 25,
      "outputs": [
        {
          "output_type": "stream",
          "text": [
            "tensor([[ 0.0122,  0.0156, -0.1046, -0.0247,  0.0788, -0.0811, -0.0403, -0.0756,\n",
            "         -0.0060, -0.0037],\n",
            "        [ 0.0220,  0.0149, -0.1072, -0.0211,  0.0837, -0.0749, -0.0410, -0.0823,\n",
            "         -0.0026,  0.0060],\n",
            "        [ 0.0111,  0.0141, -0.1053, -0.0214,  0.0869, -0.0807, -0.0369, -0.0744,\n",
            "          0.0013,  0.0036],\n",
            "        [ 0.0160,  0.0175, -0.0983, -0.0237,  0.0812, -0.0803, -0.0405, -0.0817,\n",
            "         -0.0071,  0.0031]], grad_fn=<AddmmBackward>)\n"
          ],
          "name": "stdout"
        }
      ]
    },
    {
      "cell_type": "code",
      "metadata": {
        "id": "ZGxUmQy2wY7H",
        "colab_type": "code",
        "colab": {}
      },
      "source": [
        "max_value , pred_class = torch.max(out.data,1)"
      ],
      "execution_count": 0,
      "outputs": []
    },
    {
      "cell_type": "markdown",
      "metadata": {
        "id": "-op2QWRH5VX4",
        "colab_type": "text"
      },
      "source": [
        "# Training the LeNet with CIFAR10 dataset"
      ]
    },
    {
      "cell_type": "code",
      "metadata": {
        "id": "RlZhi9zwxw_W",
        "colab_type": "code",
        "colab": {
          "base_uri": "https://localhost:8080/",
          "height": 52
        },
        "outputId": "378c9cf2-34a9-4efa-e3e5-b8c938c7acd2"
      },
      "source": [
        "batch_size = 256 \n",
        "trainSet = torchvision.datasets.CIFAR10('./data',train=True,download=True,transform=transform.ToTensor())\n",
        "trainLoader = torch.utils.data.DataLoader(trainSet,batch_size=batch_size,shuffle=True)\n",
        "testSet = torchvision.datasets.CIFAR10('./data',train=False,download=True,transform=transform.ToTensor())\n",
        "testLoader = torch.utils.data.DataLoader(testSet,batch_size=batch_size,shuffle=False)\n",
        "\n"
      ],
      "execution_count": 28,
      "outputs": [
        {
          "output_type": "stream",
          "text": [
            "Files already downloaded and verified\n",
            "Files already downloaded and verified\n"
          ],
          "name": "stdout"
        }
      ]
    },
    {
      "cell_type": "code",
      "metadata": {
        "id": "PQ2bdMeCdLzb",
        "colab_type": "code",
        "colab": {}
      },
      "source": [
        "def evaluate(dataLoader):\n",
        "  total , correct = 0 ,0 \n",
        "  for data in dataLoader:\n",
        "    inputs, labels = data \n",
        "    inputs, labels = inputs.to(device), labels.to(device)\n",
        "    outputs = net(inputs)\n",
        "    _,pred = torch.max(outputs.data,1)\n",
        "    total += labels.size(0)\n",
        "    correct +=(pred == labels).sum().item()\n",
        "  return 100 * (correct / total)"
      ],
      "execution_count": 0,
      "outputs": []
    },
    {
      "cell_type": "code",
      "metadata": {
        "id": "hO5SbaRadm3L",
        "colab_type": "code",
        "colab": {}
      },
      "source": [
        "net = LeNet().to(device)\n",
        "import torch.optim as optim \n",
        "loss_fn = nn.CrossEntropyLoss()\n",
        "opt = optim.Adam(net.parameters())\n"
      ],
      "execution_count": 0,
      "outputs": []
    },
    {
      "cell_type": "code",
      "metadata": {
        "id": "Dj-JC2OVeiNW",
        "colab_type": "code",
        "colab": {
          "base_uri": "https://localhost:8080/",
          "height": 584
        },
        "outputId": "4e847604-1522-4db1-bd21-df42164a2278"
      },
      "source": [
        "%%time\n",
        "loss_arr = []\n",
        "loss_arr_epoch = []\n",
        "max_epochs = 16 \n",
        "\n",
        "for epoch in range(max_epochs):\n",
        "  for i , data in enumerate(trainLoader,0):\n",
        "    inputs , labels = data \n",
        "    inputs, labels = inputs.to(device), labels.to(device)\n",
        "    opt.zero_grad()\n",
        "    outputs = net(inputs)\n",
        "    loss = loss_fn(outputs, labels)\n",
        "    loss.backward()\n",
        "    opt.step()\n",
        "    loss_arr.append(loss.item())\n",
        "  loss_arr_epoch.append(loss.item())\n",
        "  print(\"Epoch %d %d , Test acc : %0.2f, Train Acc : %0.2f\" % (epoch, max_epochs, evaluate(testLoader),evaluate(trainLoader)))\n",
        "plt.plot(loss_arr_epoch)\n",
        "plt.show()"
      ],
      "execution_count": 41,
      "outputs": [
        {
          "output_type": "stream",
          "text": [
            "Epoch 0 16 , Test acc : 35.66, Train Acc : 35.60\n",
            "Epoch 1 16 , Test acc : 44.15, Train Acc : 44.68\n",
            "Epoch 2 16 , Test acc : 46.82, Train Acc : 46.86\n",
            "Epoch 3 16 , Test acc : 49.36, Train Acc : 49.73\n",
            "Epoch 4 16 , Test acc : 50.31, Train Acc : 51.03\n",
            "Epoch 5 16 , Test acc : 52.14, Train Acc : 52.95\n",
            "Epoch 6 16 , Test acc : 51.66, Train Acc : 52.81\n",
            "Epoch 7 16 , Test acc : 54.13, Train Acc : 55.09\n",
            "Epoch 8 16 , Test acc : 54.43, Train Acc : 55.82\n",
            "Epoch 9 16 , Test acc : 55.27, Train Acc : 56.64\n",
            "Epoch 10 16 , Test acc : 56.09, Train Acc : 57.72\n",
            "Epoch 11 16 , Test acc : 55.84, Train Acc : 57.93\n",
            "Epoch 12 16 , Test acc : 55.72, Train Acc : 58.28\n",
            "Epoch 13 16 , Test acc : 57.41, Train Acc : 60.26\n",
            "Epoch 14 16 , Test acc : 57.85, Train Acc : 60.68\n",
            "Epoch 15 16 , Test acc : 57.79, Train Acc : 61.04\n"
          ],
          "name": "stdout"
        },
        {
          "output_type": "display_data",
          "data": {
            "image/png": "[encoded data removed]",
            "text/plain": [
              "<Figure size 432x288 with 1 Axes>"
            ]
          },
          "metadata": {
            "tags": [],
            "needs_background": "light"
          }
        },
        {
          "output_type": "stream",
          "text": [
            "CPU times: user 4min 3s, sys: 816 ms, total: 4min 4s\n",
            "Wall time: 4min 4s\n"
          ],
          "name": "stdout"
        }
      ]
    },
    {
      "cell_type": "markdown",
      "metadata": {
        "id": "HK1Vu1Hvi3DH",
        "colab_type": "text"
      },
      "source": [
        "#Basic Visulaization"
      ]
    },
    {
      "cell_type": "code",
      "metadata": {
        "id": "N1v_lansjQKm",
        "colab_type": "code",
        "colab": {}
      },
      "source": [
        "def imshow(img):\n",
        "    npimg = img.numpy()\n",
        "    plt.imshow(np.transpose(npimg, (1, 2, 0)))\n",
        "    plt.show()"
      ],
      "execution_count": 0,
      "outputs": []
    },
    {
      "cell_type": "code",
      "metadata": {
        "id": "MZziz3fqi4s7",
        "colab_type": "code",
        "colab": {
          "base_uri": "https://localhost:8080/",
          "height": 137
        },
        "outputId": "427ea17b-cf7e-4fb0-d28f-208247af9a01"
      },
      "source": [
        "imshow(torchvision.utils.make_grid(images))"
      ],
      "execution_count": 43,
      "outputs": [
        {
          "output_type": "display_data",
          "data": {
            "image/png": "[encoded data removed]",
            "text/plain": [
              "<Figure size 432x288 with 1 Axes>"
            ]
          },
          "metadata": {
            "tags": [],
            "needs_background": "light"
          }
        }
      ]
    },
    {
      "cell_type": "code",
      "metadata": {
        "id": "rP8IKhKLi_qc",
        "colab_type": "code",
        "colab": {}
      },
      "source": [
        "net = net.to('cpu')"
      ],
      "execution_count": 0,
      "outputs": []
    },
    {
      "cell_type": "code",
      "metadata": {
        "id": "luieI9D2jqGV",
        "colab_type": "code",
        "colab": {
          "base_uri": "https://localhost:8080/",
          "height": 34
        },
        "outputId": "b82dbc33-5a4e-4db2-c3a4-6ca4524ee838"
      },
      "source": [
        "out - net(images)\n",
        "print(out.shape)"
      ],
      "execution_count": 45,
      "outputs": [
        {
          "output_type": "stream",
          "text": [
            "torch.Size([4, 10])\n"
          ],
          "name": "stdout"
        }
      ]
    },
    {
      "cell_type": "code",
      "metadata": {
        "id": "7e5xsqlRjw8r",
        "colab_type": "code",
        "colab": {
          "base_uri": "https://localhost:8080/",
          "height": 34
        },
        "outputId": "cb8875db-e97d-471d-8e3f-36e9f3d940f9"
      },
      "source": [
        "out = net.cnnModel[0](images)\n",
        "print(out.shape)"
      ],
      "execution_count": 46,
      "outputs": [
        {
          "output_type": "stream",
          "text": [
            "torch.Size([4, 6, 28, 28])\n"
          ],
          "name": "stdout"
        }
      ]
    },
    {
      "cell_type": "code",
      "metadata": {
        "id": "As6gFm6Cj4Q5",
        "colab_type": "code",
        "colab": {
          "base_uri": "https://localhost:8080/",
          "height": 158
        },
        "outputId": "065d94ff-072d-46c9-d2a3-88a190754809"
      },
      "source": [
        "image_id = 3 \n",
        "plt.figure(figsize=(2,2))\n",
        "imshow(images[image_id,])"
      ],
      "execution_count": 47,
      "outputs": [
        {
          "output_type": "display_data",
          "data": {
            "image/png": "[encoded data removed]",
            "text/plain": [
              "<Figure size 144x144 with 1 Axes>"
            ]
          },
          "metadata": {
            "tags": [],
            "needs_background": "light"
          }
        }
      ]
    },
    {
      "cell_type": "code",
      "metadata": {
        "id": "rAkiYGhMkQQ7",
        "colab_type": "code",
        "colab": {
          "base_uri": "https://localhost:8080/",
          "height": 431
        },
        "outputId": "620a451a-a47d-4490-a778-a151a035ee88"
      },
      "source": [
        "plt.figure(figsize=(6,6))\n",
        "plt.subplot(321)\n",
        "for i in range(6):\n",
        "  ax1 = plt.subplot(3,2,i+1)\n",
        "  plt.imshow(out[image_id, i , : ,:].detach().numpy(), cmap = 'binary')"
      ],
      "execution_count": 48,
      "outputs": [
        {
          "output_type": "stream",
          "text": [
            "/usr/local/lib/python3.6/dist-packages/ipykernel_launcher.py:4: MatplotlibDeprecationWarning: Adding an axes using the same arguments as a previous axes currently reuses the earlier instance.  In a future version, a new instance will always be created and returned.  Meanwhile, this warning can be suppressed, and the future behavior ensured, by passing a unique label to each axes instance.\n",
            "  after removing the cwd from sys.path.\n"
          ],
          "name": "stderr"
        },
        {
          "output_type": "display_data",
          "data": {
            "image/png": "[encoded data removed]",
            "text/plain": [
              "<Figure size 432x432 with 6 Axes>"
            ]
          },
          "metadata": {
            "tags": [],
            "needs_background": "light"
          }
        }
      ]
    },
    {
      "cell_type": "code",
      "metadata": {
        "id": "Eh3D1nUjk8-L",
        "colab_type": "code",
        "colab": {}
      },
      "source": [
        ""
      ],
      "execution_count": 0,
      "outputs": []
    }
  ]
}